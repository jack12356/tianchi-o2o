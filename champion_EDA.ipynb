{
 "cells": [
  {
   "cell_type": "markdown",
   "metadata": {
    "toc": true
   },
   "source": [
    "<h1>Table of Contents<span class=\"tocSkip\"></span></h1>\n",
    "<div class=\"toc\"><ul class=\"toc-item\"><li><span><a href=\"#解决方案概述\" data-toc-modified-id=\"解决方案概述-1\"><span class=\"toc-item-num\">1&nbsp;&nbsp;</span>解决方案概述</a></span></li><li><span><a href=\"#数据集划分\" data-toc-modified-id=\"数据集划分-2\"><span class=\"toc-item-num\">2&nbsp;&nbsp;</span>数据集划分</a></span><ul class=\"toc-item\"><li><span><a href=\"#导入数据\" data-toc-modified-id=\"导入数据-2.1\"><span class=\"toc-item-num\">2.1&nbsp;&nbsp;</span>导入数据</a></span></li><li><span><a href=\"#数据查看\" data-toc-modified-id=\"数据查看-2.2\"><span class=\"toc-item-num\">2.2&nbsp;&nbsp;</span><strong>数据查看</strong></a></span></li><li><span><a href=\"#数据划分\" data-toc-modified-id=\"数据划分-2.3\"><span class=\"toc-item-num\">2.3&nbsp;&nbsp;</span>数据划分</a></span></li></ul></li><li><span><a href=\"#特征工程\" data-toc-modified-id=\"特征工程-3\"><span class=\"toc-item-num\">3&nbsp;&nbsp;</span>特征工程</a></span><ul class=\"toc-item\"><li><span><a href=\"#其它特征\" data-toc-modified-id=\"其它特征-3.1\"><span class=\"toc-item-num\">3.1&nbsp;&nbsp;</span><strong>其它特征</strong></a></span><ul class=\"toc-item\"><li><span><a href=\"#dataset3\" data-toc-modified-id=\"dataset3-3.1.1\"><span class=\"toc-item-num\">3.1.1&nbsp;&nbsp;</span>dataset3</a></span><ul class=\"toc-item\"><li><span><a href=\"#t-此月用户领取全部优惠券数目\" data-toc-modified-id=\"t-此月用户领取全部优惠券数目-3.1.1.1\"><span class=\"toc-item-num\">3.1.1.1&nbsp;&nbsp;</span><strong>t 此月用户领取全部优惠券数目</strong></a></span></li><li><span><a href=\"#t1-此月用户领取相同优惠券数目\" data-toc-modified-id=\"t1-此月用户领取相同优惠券数目-3.1.1.2\"><span class=\"toc-item-num\">3.1.1.2&nbsp;&nbsp;</span><strong>t1 此月用户领取相同优惠券数目</strong></a></span></li><li><span><a href=\"#t2-用户同一优惠券领取最大最小时间(leakage)\" data-toc-modified-id=\"t2-用户同一优惠券领取最大最小时间(leakage)-3.1.1.3\"><span class=\"toc-item-num\">3.1.1.3&nbsp;&nbsp;</span>t2 用户同一优惠券领取最大最小时间(<strong>leakage</strong>)</a></span></li><li><span><a href=\"#t3-用户此优惠券为本月第一次领取或者最后一次领取\" data-toc-modified-id=\"t3-用户此优惠券为本月第一次领取或者最后一次领取-3.1.1.4\"><span class=\"toc-item-num\">3.1.1.4&nbsp;&nbsp;</span><strong>t3 用户此优惠券为本月第一次领取或者最后一次领取</strong></a></span></li><li><span><a href=\"#t4-当天接受优惠券总数\" data-toc-modified-id=\"t4-当天接受优惠券总数-3.1.1.5\"><span class=\"toc-item-num\">3.1.1.5&nbsp;&nbsp;</span><strong>t4 当天接受优惠券总数</strong></a></span></li><li><span><a href=\"#t5-当天接受相同优惠券数目\" data-toc-modified-id=\"t5-当天接受相同优惠券数目-3.1.1.6\"><span class=\"toc-item-num\">3.1.1.6&nbsp;&nbsp;</span><strong>t5 当天接受相同优惠券数目</strong></a></span></li><li><span><a href=\"#t7前后一次领取优惠券间隔时间\" data-toc-modified-id=\"t7前后一次领取优惠券间隔时间-3.1.1.7\"><span class=\"toc-item-num\">3.1.1.7&nbsp;&nbsp;</span><strong>t7前后一次领取优惠券间隔时间</strong></a></span></li><li><span><a href=\"#other_feature3-组合特征-t-t7\" data-toc-modified-id=\"other_feature3-组合特征-t-t7-3.1.1.8\"><span class=\"toc-item-num\">3.1.1.8&nbsp;&nbsp;</span>other_feature3 组合特征 t-t7</a></span></li><li><span><a href=\"#other_feature3\" data-toc-modified-id=\"other_feature3-3.1.1.9\"><span class=\"toc-item-num\">3.1.1.9&nbsp;&nbsp;</span><strong>other_feature3</strong></a></span></li></ul></li><li><span><a href=\"#dataset2\" data-toc-modified-id=\"dataset2-3.1.2\"><span class=\"toc-item-num\">3.1.2&nbsp;&nbsp;</span>dataset2</a></span><ul class=\"toc-item\"><li><span><a href=\"#get-other_feature2\" data-toc-modified-id=\"get-other_feature2-3.1.2.1\"><span class=\"toc-item-num\">3.1.2.1&nbsp;&nbsp;</span>get other_feature2</a></span></li><li><span><a href=\"#other_feature2\" data-toc-modified-id=\"other_feature2-3.1.2.2\"><span class=\"toc-item-num\">3.1.2.2&nbsp;&nbsp;</span><strong>other_feature2</strong></a></span></li></ul></li><li><span><a href=\"#dataset1\" data-toc-modified-id=\"dataset1-3.1.3\"><span class=\"toc-item-num\">3.1.3&nbsp;&nbsp;</span>dataset1</a></span><ul class=\"toc-item\"><li><span><a href=\"#get-other_feature1\" data-toc-modified-id=\"get-other_feature1-3.1.3.1\"><span class=\"toc-item-num\">3.1.3.1&nbsp;&nbsp;</span>get other_feature1</a></span></li><li><span><a href=\"#other_feature1\" data-toc-modified-id=\"other_feature1-3.1.3.2\"><span class=\"toc-item-num\">3.1.3.2&nbsp;&nbsp;</span><strong>other_feature1</strong></a></span></li></ul></li></ul></li><li><span><a href=\"#优惠券相关的特征\" data-toc-modified-id=\"优惠券相关的特征-3.2\"><span class=\"toc-item-num\">3.2&nbsp;&nbsp;</span><strong>优惠券相关的特征</strong></a></span><ul class=\"toc-item\"><li><span><a href=\"#判断函数\" data-toc-modified-id=\"判断函数-3.2.1\"><span class=\"toc-item-num\">3.2.1&nbsp;&nbsp;</span>判断函数</a></span></li><li><span><a href=\"#dataset3-构建特征\" data-toc-modified-id=\"dataset3-构建特征-3.2.2\"><span class=\"toc-item-num\">3.2.2&nbsp;&nbsp;</span>dataset3 构建特征</a></span></li><li><span><a href=\"#dataset2-构建特征\" data-toc-modified-id=\"dataset2-构建特征-3.2.3\"><span class=\"toc-item-num\">3.2.3&nbsp;&nbsp;</span>dataset2 构建特征</a></span></li><li><span><a href=\"#dataset1-构建特征\" data-toc-modified-id=\"dataset1-构建特征-3.2.4\"><span class=\"toc-item-num\">3.2.4&nbsp;&nbsp;</span>dataset1 构建特征</a></span></li></ul></li><li><span><a href=\"#商家相关的特征\" data-toc-modified-id=\"商家相关的特征-3.3\"><span class=\"toc-item-num\">3.3&nbsp;&nbsp;</span><strong>商家相关的特征</strong></a></span><ul class=\"toc-item\"><li><span><a href=\"#dataset3-feature3\" data-toc-modified-id=\"dataset3-feature3-3.3.1\"><span class=\"toc-item-num\">3.3.1&nbsp;&nbsp;</span>dataset3 feature3</a></span><ul class=\"toc-item\"><li><span><a href=\"#feature3\" data-toc-modified-id=\"feature3-3.3.1.1\"><span class=\"toc-item-num\">3.3.1.1&nbsp;&nbsp;</span><strong>feature3</strong></a></span></li><li><span><a href=\"#get-merchant-feature\" data-toc-modified-id=\"get-merchant-feature-3.3.1.2\"><span class=\"toc-item-num\">3.3.1.2&nbsp;&nbsp;</span>get merchant feature</a></span></li><li><span><a href=\"#merchant3_feature\" data-toc-modified-id=\"merchant3_feature-3.3.1.3\"><span class=\"toc-item-num\">3.3.1.3&nbsp;&nbsp;</span><strong>merchant3_feature</strong></a></span></li></ul></li><li><span><a href=\"#dataset2-feature2\" data-toc-modified-id=\"dataset2-feature2-3.3.2\"><span class=\"toc-item-num\">3.3.2&nbsp;&nbsp;</span>dataset2 feature2</a></span><ul class=\"toc-item\"><li><span><a href=\"#feature2\" data-toc-modified-id=\"feature2-3.3.2.1\"><span class=\"toc-item-num\">3.3.2.1&nbsp;&nbsp;</span><strong>feature2</strong></a></span></li><li><span><a href=\"#get-merchant-feature2\" data-toc-modified-id=\"get-merchant-feature2-3.3.2.2\"><span class=\"toc-item-num\">3.3.2.2&nbsp;&nbsp;</span>get merchant feature2</a></span></li><li><span><a href=\"#merchant2_feature\" data-toc-modified-id=\"merchant2_feature-3.3.2.3\"><span class=\"toc-item-num\">3.3.2.3&nbsp;&nbsp;</span><strong>merchant2_feature</strong></a></span></li></ul></li><li><span><a href=\"#dataset1-feature1\" data-toc-modified-id=\"dataset1-feature1-3.3.3\"><span class=\"toc-item-num\">3.3.3&nbsp;&nbsp;</span>dataset1 feature1</a></span><ul class=\"toc-item\"><li><span><a href=\"#feature1\" data-toc-modified-id=\"feature1-3.3.3.1\"><span class=\"toc-item-num\">3.3.3.1&nbsp;&nbsp;</span><strong>feature1</strong></a></span></li><li><span><a href=\"#get-merchant-feature1\" data-toc-modified-id=\"get-merchant-feature1-3.3.3.2\"><span class=\"toc-item-num\">3.3.3.2&nbsp;&nbsp;</span>get merchant feature1</a></span></li><li><span><a href=\"#merchant1_feature\" data-toc-modified-id=\"merchant1_feature-3.3.3.3\"><span class=\"toc-item-num\">3.3.3.3&nbsp;&nbsp;</span><strong>merchant1_feature</strong></a></span></li></ul></li></ul></li><li><span><a href=\"#用户线下相关的特征\" data-toc-modified-id=\"用户线下相关的特征-3.4\"><span class=\"toc-item-num\">3.4&nbsp;&nbsp;</span><strong>用户线下相关的特征</strong></a></span><ul class=\"toc-item\"><li><span><a href=\"#dataset3-feature3\" data-toc-modified-id=\"dataset3-feature3-3.4.1\"><span class=\"toc-item-num\">3.4.1&nbsp;&nbsp;</span>dataset3 feature3</a></span></li><li><span><a href=\"#dataset2-feature2\" data-toc-modified-id=\"dataset2-feature2-3.4.2\"><span class=\"toc-item-num\">3.4.2&nbsp;&nbsp;</span>dataset2 feature2</a></span></li><li><span><a href=\"#dataset1-feature1\" data-toc-modified-id=\"dataset1-feature1-3.4.3\"><span class=\"toc-item-num\">3.4.3&nbsp;&nbsp;</span>dataset1 feature1</a></span></li></ul></li><li><span><a href=\"#用户线上相关的特征\" data-toc-modified-id=\"用户线上相关的特征-3.5\"><span class=\"toc-item-num\">3.5&nbsp;&nbsp;</span><strong>用户线上相关的特征</strong></a></span></li><li><span><a href=\"#用户-商家交互特征\" data-toc-modified-id=\"用户-商家交互特征-3.6\"><span class=\"toc-item-num\">3.6&nbsp;&nbsp;</span><strong>用户-商家交互特征</strong></a></span><ul class=\"toc-item\"><li><span><a href=\"#dataset3-feature3\" data-toc-modified-id=\"dataset3-feature3-3.6.1\"><span class=\"toc-item-num\">3.6.1&nbsp;&nbsp;</span>dataset3 feature3</a></span></li><li><span><a href=\"#dataset2-feature2\" data-toc-modified-id=\"dataset2-feature2-3.6.2\"><span class=\"toc-item-num\">3.6.2&nbsp;&nbsp;</span>dataset2 feature2</a></span></li><li><span><a href=\"#dataset1-feature1\" data-toc-modified-id=\"dataset1-feature1-3.6.3\"><span class=\"toc-item-num\">3.6.3&nbsp;&nbsp;</span>dataset1 feature1</a></span></li></ul></li><li><span><a href=\"#训练集，验证集\" data-toc-modified-id=\"训练集，验证集-3.7\"><span class=\"toc-item-num\">3.7&nbsp;&nbsp;</span>训练集，验证集</a></span><ul class=\"toc-item\"><li><span><a href=\"#dataset3\" data-toc-modified-id=\"dataset3-3.7.1\"><span class=\"toc-item-num\">3.7.1&nbsp;&nbsp;</span>dataset3</a></span><ul class=\"toc-item\"><li><span><a href=\"#训练集dataset3\" data-toc-modified-id=\"训练集dataset3-3.7.1.1\"><span class=\"toc-item-num\">3.7.1.1&nbsp;&nbsp;</span><strong>训练集dataset3</strong></a></span></li></ul></li><li><span><a href=\"#dataset2\" data-toc-modified-id=\"dataset2-3.7.2\"><span class=\"toc-item-num\">3.7.2&nbsp;&nbsp;</span>dataset2</a></span><ul class=\"toc-item\"><li><span><a href=\"#训练集dataset2\" data-toc-modified-id=\"训练集dataset2-3.7.2.1\"><span class=\"toc-item-num\">3.7.2.1&nbsp;&nbsp;</span><strong>训练集dataset2</strong></a></span></li></ul></li><li><span><a href=\"#dataset1\" data-toc-modified-id=\"dataset1-3.7.3\"><span class=\"toc-item-num\">3.7.3&nbsp;&nbsp;</span>dataset1</a></span><ul class=\"toc-item\"><li><span><a href=\"#训练集dataset1\" data-toc-modified-id=\"训练集dataset1-3.7.3.1\"><span class=\"toc-item-num\">3.7.3.1&nbsp;&nbsp;</span><strong>训练集dataset1</strong></a></span></li></ul></li><li><span><a href=\"#对比训练集\" data-toc-modified-id=\"对比训练集-3.7.4\"><span class=\"toc-item-num\">3.7.4&nbsp;&nbsp;</span>对比训练集</a></span></li></ul></li></ul></li></ul></div>"
   ]
  },
  {
   "cell_type": "code",
   "execution_count": 1,
   "metadata": {
    "ExecuteTime": {
     "end_time": "2018-08-07T07:35:28.915710Z",
     "start_time": "2018-08-07T07:35:23.416096Z"
    }
   },
   "outputs": [],
   "source": [
    "from datetime import date\n",
    "\n",
    "import numpy as np\n",
    "import pandas as pd\n",
    "\n",
    "import seaborn as sns\n",
    "import matplotlib.pyplot as plt\n",
    "\n",
    "import warnings\n",
    "warnings.filterwarnings('ignore')\n",
    "sns.set(style='white', context='notebook', palette='deep')  \n",
    "%matplotlib inline"
   ]
  },
  {
   "cell_type": "markdown",
   "metadata": {},
   "source": [
    "## 解决方案概述\n",
    "本赛题提供了用户线下消费和优惠券领取核销行为的纪录表，用户线上点击/消费和优惠券领取核销行为的纪录表，记录的时间区间是2016.01.01至2016.06.30,需要预测的是2016年7月份用户领取优惠劵后是否核销。根据这两份数据表，我们首先对数据集进行划分，然后提取了用户相关的特征、商家相关的特征，优惠劵相关的特征，用户与商家之间的交互特征，以及利用本赛题的leakage得到的其它特征（这部分特征在实际业务中是不可能获取到的）。最后训练了XGBoost，GBDT，RandomForest进行模型融合。"
   ]
  },
  {
   "cell_type": "markdown",
   "metadata": {},
   "source": [
    "## 数据集划分\n",
    "可以采用滑窗的方法得到多份训练数据集，特征区间越小，得到的训练数据集越多。以下是一种划分方式：\n",
    "![split_dataset.png](http://upload-images.jianshu.io/upload_images/99097-d6e3f38a9b9ec379.png?imageMogr2/auto-orient/strip%7CimageView2/2/w/1240)\n",
    "\n",
    "划取多份训练集，一方面可以增加训练样本，另一方面可以做交叉验证实验，方便调参。"
   ]
  },
  {
   "cell_type": "markdown",
   "metadata": {},
   "source": [
    "### 导入数据"
   ]
  },
  {
   "cell_type": "code",
   "execution_count": 2,
   "metadata": {
    "ExecuteTime": {
     "end_time": "2018-08-07T07:35:46.055299Z",
     "start_time": "2018-08-07T07:35:43.805455Z"
    }
   },
   "outputs": [],
   "source": [
    "#1754884 record,1053282 with coupon_id,9738 coupon. date_received:20160101~20160615,date:20160101~20160630, 539438 users, 8415 merchants\n",
    "off_train = pd.read_csv('data/ccf_offline_stage1_train.csv',header=None)\n",
    "off_train.columns = ['user_id','merchant_id','coupon_id','discount_rate','distance','date_received','date']\n",
    "#2050 coupon_id. date_received:20160701~20160731, 76309 users(76307 in trainset, 35965 in online_trainset), 1559 merchants(1558 in trainset)\n",
    "off_test = pd.read_csv('data/ccf_offline_stage1_test_revised.csv',header=None)\n",
    "off_test.columns = ['user_id','merchant_id','coupon_id','discount_rate','distance','date_received']\n",
    "\n",
    "off_train.drop(index=0,inplace=True)\n",
    "off_test.drop(index=0,inplace=True)\n",
    "\n",
    "#11429826 record(872357 with coupon_id),762858 user(267448 in off_train)\n",
    "# on_train = pd.read_csv('data/ccf_online_stage1_train.csv',header=None)\n",
    "# on_train.columns = ['user_id','merchant_id','action','coupon_id','discount_rate','date_received','date']"
   ]
  },
  {
   "cell_type": "code",
   "execution_count": 3,
   "metadata": {
    "ExecuteTime": {
     "end_time": "2018-08-07T07:35:47.008356Z",
     "start_time": "2018-08-07T07:35:46.992740Z"
    }
   },
   "outputs": [],
   "source": [
    "pd.set_option('display.max_columns', 40)"
   ]
  },
  {
   "cell_type": "markdown",
   "metadata": {
    "cell_style": "center"
   },
   "source": [
    "### **数据查看**\n"
   ]
  },
  {
   "cell_type": "markdown",
   "metadata": {
    "cell_style": "split"
   },
   "source": [
    "共有**{{off_train.shape[0]}}**个样本\n",
    "\n",
    "共有**{{off_train.shape[1]}}**列特征\n",
    "\n",
    "**{{off_train.columns[0]}} ---- {{off_train['user_id'].nunique()}}个用户** \n",
    "\n",
    "**{{off_train.columns[1]}}---- {{off_train['merchant_id'].nunique()}}个商家**\n",
    "\n",
    "**{{off_train.columns[2]}}---- {{off_train['coupon_id'].nunique()}}种优惠券**\n",
    "\n",
    "**{{off_train.columns[3]}}**\n",
    "\n",
    "**{{off_train.columns[4]}}**\n",
    "\n",
    "**{{off_train.columns[5]}}**\n",
    "\n",
    "**{{off_train.columns[6]}}**"
   ]
  },
  {
   "cell_type": "markdown",
   "metadata": {
    "cell_style": "split"
   },
   "source": [
    "**data_miss**| **offline**\n",
    "---|:--:|---:\n",
    "User_id |   0.000   \n",
    "Merchant_id| 0.000   \n",
    "**Coupon_id**|    **0.3998** \n",
    "**Discount_rate**|   **0.3998** \n",
    "Distance|     0.0604 \n",
    "**Date_received** | **0.3998** \n",
    "**Date**|        **0.5572**\n"
   ]
  },
  {
   "cell_type": "markdown",
   "metadata": {
    "cell_style": "center"
   },
   "source": [
    "{{off_train.head()}}"
   ]
  },
  {
   "cell_type": "markdown",
   "metadata": {},
   "source": [
    "用户对于每商家仅有三种行为：\n",
    "- 只领取优惠券（off_train.date_received != 'null）\n",
    "- 只单纯消费  （off_train.date != 'null）\n",
    "- 领取优惠券后消费（off_train.date_received != 'null）&（off_train.date != 'null）"
   ]
  },
  {
   "cell_type": "markdown",
   "metadata": {},
   "source": [
    "### 数据划分"
   ]
  },
  {
   "cell_type": "markdown",
   "metadata": {},
   "source": [
    "{{off_train.head(2)}}"
   ]
  },
  {
   "cell_type": "markdown",
   "metadata": {},
   "source": [
    "将off_train数据集中的**nan处理成'null'**,方便比较。\n",
    "\n",
    "同时将时间统一为**‘20160514’**这样的字符串便于比较大小。"
   ]
  },
  {
   "cell_type": "code",
   "execution_count": 4,
   "metadata": {
    "ExecuteTime": {
     "end_time": "2018-08-07T07:36:31.880323Z",
     "start_time": "2018-08-07T07:36:29.333633Z"
    },
    "code_folding": [
     2
    ]
   },
   "outputs": [],
   "source": [
    "off_train.fillna('null',inplace=True)\n",
    "\n",
    "def tran_int_str(col):\n",
    "    if col=='null':\n",
    "        return col\n",
    "    else:\n",
    "        return str(int(float(col)))\n",
    "\n",
    "off_train['date'] = off_train['date'].apply(tran_int_str)\n",
    "off_train['date_received'] = off_train['date_received'].apply(tran_int_str)"
   ]
  },
  {
   "cell_type": "code",
   "execution_count": 5,
   "metadata": {
    "ExecuteTime": {
     "end_time": "2018-08-07T07:36:42.254604Z",
     "start_time": "2018-08-07T07:36:38.957962Z"
    }
   },
   "outputs": [],
   "source": [
    "dataset3 = off_test\n",
    "feature3 = off_train[(\n",
    "    (off_train.date >= '20160315') & (off_train.date <= '20160630')) | (\n",
    "        (off_train.date == 'null') & (off_train.date_received >= '20160315') &\n",
    "        (off_train.date_received <= '20160630'))]\n",
    "dataset2 = off_train[(off_train.date_received >= '20160515')\n",
    "                     & (off_train.date_received <= '20160615')]\n",
    "feature2 = off_train[\n",
    "    (off_train.date >= '20160201') & (off_train.date <= '20160514')\n",
    "    | ((off_train.date == 'null') & (off_train.date_received >= '20160201') &\n",
    "       (off_train.date_received <= '20160514'))]\n",
    "dataset1 = off_train[(off_train.date_received >= '20160414')\n",
    "                     & (off_train.date_received <= '20160514')]\n",
    "feature1 = off_train[\n",
    "    (off_train.date >= '20160101') & (off_train.date <= '20160413')\n",
    "    | ((off_train.date == 'null') & (off_train.date_received >= '20160101') &\n",
    "       (off_train.date_received <= '20160413'))]"
   ]
  },
  {
   "cell_type": "markdown",
   "metadata": {},
   "source": [
    "## 特征工程\n",
    "赛题提供了online和offline两份数据集，online数据集可以提取到与用户相关的特征，offline数据集可以提取到更加丰富的特征：用户相关的特征，商家相关的特征，优惠劵相关的特征，用户-商家交互特征。\n",
    "\n",
    "另外需要指出的是，赛题提供的预测集中，包含了同一个用户在整个7月份里的优惠券领取情况，这实际上是一种leakage，比如存在这种情况：某一个用户在7月10日领取了某优惠券，然后在7月12日和7月15日又领取了相同的优惠券，那么7月10日领取的优惠券被核销的可能性就很大了。我们在做特征工程时也注意到了这一点，提取了一些相关的特征。加入这部分特征后，AUC提升了10个百分点，相信大多数队伍都利用了这一leakage，但这些特征在实际业务中是无法获取到的。\n"
   ]
  },
  {
   "cell_type": "markdown",
   "metadata": {},
   "source": [
    "### **其它特征**\n",
    "\t\n",
    "这部分特征利用了赛题leakage，都是在预测区间提取的。\n",
    "- **用户领取的所有优惠券数目**\n",
    "- **用户领取的相同该优惠券数目**\n",
    "- **用户上/下一次领取的时间间隔**\n",
    "- **用户第一次/最后一次领取该优惠券**\n",
    "- 用户领取特定商家的优惠券数目\n",
    "- 用户领取的不同商家数目\n",
    "- **用户当天领取的优惠券数目**\n",
    "- **用户当天领取的相同该优惠券数目**\n",
    "- 用户领取的所有优惠券种类数目\n",
    "- 商家被领取的优惠券数目\n",
    "- 商家被领取的特定优惠券数目\n",
    "- 商家被多少不同用户领取的数目\n",
    "- 商家发行的所有优惠券种类数目"
   ]
  },
  {
   "cell_type": "markdown",
   "metadata": {},
   "source": [
    "#### dataset3\n",
    "\n",
    "**dataset3**| **数值**\n",
    "---|:--:\n",
    "时间| **20160701·20160731**\n",
    "样本数|**113640**\n",
    "用户数|**76309**\n",
    "date_received|**113640(no_nan)**"
   ]
  },
  {
   "cell_type": "markdown",
   "metadata": {},
   "source": [
    "##### **t 此月用户领取全部优惠券数目**\n",
    "**t : 76309个样本**"
   ]
  },
  {
   "cell_type": "code",
   "execution_count": 6,
   "metadata": {
    "ExecuteTime": {
     "end_time": "2018-08-07T07:38:00.405429Z",
     "start_time": "2018-08-07T07:38:00.186704Z"
    }
   },
   "outputs": [],
   "source": [
    "t = dataset3[['user_id']]\n",
    "t['this_month_user_receive_all_coupon_count'] = 1\n",
    "t = t.groupby('user_id').agg('sum').reset_index()"
   ]
  },
  {
   "cell_type": "markdown",
   "metadata": {},
   "source": [
    "##### **t1 此月用户领取相同优惠券数目**\n",
    "**t1 : 105958 样本**\n",
    "> user_id\n",
    "\n",
    "> coupon_id\n",
    "\n",
    ">this_month_user_receive_same_coupon_count"
   ]
  },
  {
   "cell_type": "code",
   "execution_count": 7,
   "metadata": {
    "ExecuteTime": {
     "end_time": "2018-08-07T07:38:03.217733Z",
     "start_time": "2018-08-07T07:38:02.999011Z"
    }
   },
   "outputs": [],
   "source": [
    "t1 = dataset3[['user_id','coupon_id']]\n",
    "t1['this_month_user_receive_same_coupon_count'] = 1\n",
    "t1 = t1.groupby(['user_id','coupon_id']).agg('sum').reset_index()"
   ]
  },
  {
   "cell_type": "markdown",
   "metadata": {},
   "source": [
    "##### t2 用户同一优惠券领取最大最小时间(**leakage**)"
   ]
  },
  {
   "cell_type": "markdown",
   "metadata": {},
   "source": [
    "**t2 ： 3994条数据**，代表用户此月领取同一优惠券两次以上，这说明已经使用上一优惠券\n",
    ">user_id\n",
    "\n",
    ">coupon_id\n",
    "\n",
    ">max_date_received\n",
    "\n",
    ">min_date_received"
   ]
  },
  {
   "cell_type": "code",
   "execution_count": 8,
   "metadata": {
    "ExecuteTime": {
     "end_time": "2018-08-07T07:38:10.592220Z",
     "start_time": "2018-08-07T07:38:08.561124Z"
    },
    "code_folding": [
     2,
     7,
     9
    ],
    "scrolled": true
   },
   "outputs": [],
   "source": [
    "t2 = dataset3[['user_id', 'coupon_id', 'date_received']]\n",
    "t2.date_received = t2.date_received.astype('str')\n",
    "t2 = t2.groupby(\n",
    "    ['user_id',\n",
    "     'coupon_id'])['date_received'].agg(lambda x: ':'.join(x)).reset_index()\n",
    "t2['receive_number'] = t2.date_received.apply(lambda s: len(s.split(':')))\n",
    "t2 = t2[t2.receive_number > 1]        #保证至少有两条领取记录,代表一定使用过了上一张优惠券\n",
    "t2['max_date_received'] = t2.date_received.apply(\n",
    "    lambda s: max([int(d) for d in s.split(':')]))\n",
    "t2['min_date_received'] = t2.date_received.apply(\n",
    "    lambda s: min([int(d) for d in s.split(':')]))\n",
    "t2 = t2[['user_id', 'coupon_id', 'max_date_received', 'min_date_received']]"
   ]
  },
  {
   "cell_type": "markdown",
   "metadata": {},
   "source": [
    "##### **t3 用户此优惠券为本月第一次领取或者最后一次领取**\n",
    "**t3 : 113460个样本**\n",
    "\n",
    ">user_id\n",
    "\n",
    ">coupon_id\n",
    "\n",
    ">date_received\n",
    "\n",
    ">this_month_user_receive_same_coupon_lastone\n",
    "\n",
    ">this_month_user_receive_same_coupon_firstone\n",
    "\n",
    "个人感觉只需要考虑是否为最后一次领取，如果不是说明之前领取的用过了。\n",
    "\n",
    "至于是否第一次领取区别不大，因为只考虑最后一次领取。\n",
    "\n",
    "对于自由一次领取记录的结果都为-1；"
   ]
  },
  {
   "cell_type": "code",
   "execution_count": 9,
   "metadata": {
    "ExecuteTime": {
     "end_time": "2018-08-07T07:38:15.373141Z",
     "start_time": "2018-08-07T07:38:14.795062Z"
    },
    "code_folding": [
     7,
     16,
     18,
     20
    ]
   },
   "outputs": [],
   "source": [
    "t3 = dataset3[['user_id', 'coupon_id', 'date_received']]\n",
    "t3 = pd.merge(t3, t2, on=['user_id', 'coupon_id'], how='left')\n",
    "t3.date_received = t3.date_received.apply(lambda x : float(x))\n",
    "t3['this_month_user_receive_same_coupon_lastone'] = t3.max_date_received - t3.date_received\n",
    "t3['this_month_user_receive_same_coupon_firstone'] = t3.date_received - t3.min_date_received\n",
    "\n",
    "\n",
    "def is_firstlastone(x):\n",
    "    if x == 0:\n",
    "        return 1\n",
    "    elif x > 0:\n",
    "        return 0\n",
    "    else:\n",
    "        return -1  #those only receive once\n",
    "\n",
    "\n",
    "t3.this_month_user_receive_same_coupon_lastone = t3.this_month_user_receive_same_coupon_lastone.apply(\n",
    "    is_firstlastone)\n",
    "t3.this_month_user_receive_same_coupon_firstone = t3.this_month_user_receive_same_coupon_firstone.apply(\n",
    "    is_firstlastone)\n",
    "t3 = t3[[\n",
    "    'user_id', 'coupon_id', 'date_received',\n",
    "    'this_month_user_receive_same_coupon_lastone',\n",
    "    'this_month_user_receive_same_coupon_firstone'\n",
    "]]\n",
    "\n",
    "t3['date_received'] = t3['date_received'].apply(lambda x : str(int(x)))   #将t3的时间格式转换为str"
   ]
  },
  {
   "cell_type": "markdown",
   "metadata": {},
   "source": [
    "##### **t4 当天接受优惠券总数**\n",
    "**t4 : 105605个样本**\n",
    "> user_id\n",
    "\n",
    ">date_received  \n",
    "\n",
    ">this_day_user_receive_all_coupon_count"
   ]
  },
  {
   "cell_type": "code",
   "execution_count": 10,
   "metadata": {
    "ExecuteTime": {
     "end_time": "2018-08-07T07:38:21.185237Z",
     "start_time": "2018-08-07T07:38:20.935265Z"
    },
    "scrolled": true
   },
   "outputs": [],
   "source": [
    "t4 = dataset3[['user_id','date_received']]\n",
    "t4['this_day_user_receive_all_coupon_count'] = 1\n",
    "t4 = t4.groupby(['user_id','date_received']).agg('sum').reset_index()"
   ]
  },
  {
   "cell_type": "markdown",
   "metadata": {},
   "source": [
    "##### **t5 当天接受相同优惠券数目**\n",
    "**t5 : 112803 样本数**\n",
    "> user_id\n",
    "\n",
    ">coupon_id\n",
    "\n",
    ">date_received  \n",
    "\n",
    ">this_day_user_receive_same_coupon_count"
   ]
  },
  {
   "cell_type": "code",
   "execution_count": 11,
   "metadata": {
    "ExecuteTime": {
     "end_time": "2018-08-07T07:38:23.997514Z",
     "start_time": "2018-08-07T07:38:23.778815Z"
    }
   },
   "outputs": [],
   "source": [
    "t5 = dataset3[['user_id','coupon_id','date_received']]\n",
    "t5['this_day_user_receive_same_coupon_count'] = 1\n",
    "t5 = t5.groupby(['user_id','coupon_id','date_received']).agg('sum').reset_index()"
   ]
  },
  {
   "cell_type": "markdown",
   "metadata": {},
   "source": [
    "#####   **t7前后一次领取优惠券间隔时间**\n",
    "**t6 同一用户同一优惠券领取的时间集合 **\n",
    "**t7 : 113640 样本数** \n",
    "\n",
    "**-1** 表示之前/之后没领取或者仅有此次领取\n",
    "> user_id\n",
    "\n",
    ">coupon_id\n",
    "\n",
    ">date_received  \n",
    "\n",
    ">day_gap_before\n",
    "\n",
    ">day_gap_after"
   ]
  },
  {
   "cell_type": "code",
   "execution_count": 12,
   "metadata": {
    "ExecuteTime": {
     "end_time": "2018-08-07T07:38:29.325348Z",
     "start_time": "2018-08-07T07:38:27.481726Z"
    },
    "code_folding": [
     2
    ]
   },
   "outputs": [],
   "source": [
    "t6 = dataset3[['user_id', 'coupon_id', 'date_received']]\n",
    "t6.date_received = t6.date_received.astype('str')\n",
    "t6 = t6.groupby(\n",
    "    ['user_id',\n",
    "     'coupon_id'])['date_received'].agg(lambda x: ':'.join(x)).reset_index()\n",
    "t6.rename(columns={'date_received': 'dates'}, inplace=True)"
   ]
  },
  {
   "cell_type": "code",
   "execution_count": 13,
   "metadata": {
    "ExecuteTime": {
     "end_time": "2018-08-07T07:38:32.028287Z",
     "start_time": "2018-08-07T07:38:30.887779Z"
    },
    "code_folding": [
     0,
     17,
     38
    ]
   },
   "outputs": [],
   "source": [
    "def get_day_gap_before(s):\n",
    "    date_received, dates = s.split('-')\n",
    "    dates = dates.split(':')\n",
    "    gaps = []\n",
    "    for d in dates:\n",
    "        this_gap = (date(\n",
    "            int(date_received[0:4]), int(date_received[4:6]),\n",
    "            int(date_received[6:8])) - date(\n",
    "                int(d[0:4]), int(d[4:6]), int(d[6:8]))).days\n",
    "        if this_gap > 0:                   #只考虑以前领取的\n",
    "            gaps.append(this_gap)\n",
    "    if len(gaps) == 0:\n",
    "        return -1\n",
    "    else:\n",
    "        return min(gaps)\n",
    "\n",
    "\n",
    "def get_day_gap_after(s):\n",
    "    date_received, dates = s.split('-')\n",
    "    dates = dates.split(':')\n",
    "    gaps = []\n",
    "    for d in dates:\n",
    "        this_gap = (date(int(d[0:4]), int(d[4:6]), int(d[6:8])) - date(\n",
    "            int(date_received[0:4]), int(date_received[4:6]),\n",
    "            int(date_received[6:8]))).days\n",
    "        if this_gap > 0:                    #只考虑之后领取的\n",
    "            gaps.append(this_gap)\n",
    "    if len(gaps) == 0:\n",
    "        return -1\n",
    "    else:\n",
    "        return min(gaps)\n",
    "\n",
    "\n",
    "t7 = dataset3[['user_id', 'coupon_id', 'date_received']]\n",
    "t7 = pd.merge(t7, t6, on=['user_id', 'coupon_id'], how='left')\n",
    "t7['date_received_date'] = t7.date_received.astype('str') + '-' + t7.dates\n",
    "t7['day_gap_before'] = t7.date_received_date.apply(get_day_gap_before)\n",
    "t7['day_gap_after'] = t7.date_received_date.apply(get_day_gap_after)\n",
    "t7 = t7[[\n",
    "    'user_id', 'coupon_id', 'date_received', 'day_gap_before', 'day_gap_after'\n",
    "]]"
   ]
  },
  {
   "cell_type": "markdown",
   "metadata": {},
   "source": [
    "##### other_feature3 组合特征 t-t7\n",
    "**other_feature3 : 116204个样本**\n",
    "> user_id\n",
    "\n",
    ">coupon_id\n",
    "\n",
    ">this_month_user_receive_same_coupon_count\n",
    "\n",
    ">this_month_user_receive_all_coupon_count\n",
    "\n",
    ">date_received  \n",
    "\n",
    ">this_month_user_receive_same_coupon_lastone\n",
    "\n",
    ">this_month_user_receive_same_coupon_firstone\n",
    "\n",
    ">this_day_user_receive_all_coupon_count\n",
    "\n",
    ">this_day_user_receive_same_coupon_count\n",
    "\n",
    ">day_gap_before\n",
    "\n",
    ">day_gap_after\n"
   ]
  },
  {
   "cell_type": "code",
   "execution_count": 14,
   "metadata": {
    "ExecuteTime": {
     "end_time": "2018-08-07T07:38:44.230829Z",
     "start_time": "2018-08-07T07:38:42.574704Z"
    },
    "code_folding": [
     3,
     5
    ],
    "scrolled": true
   },
   "outputs": [],
   "source": [
    "other_feature3 = pd.merge(t1, t, on='user_id')\n",
    "other_feature3 = pd.merge(other_feature3, t3, on=['user_id', 'coupon_id'])\n",
    "other_feature3 = pd.merge(other_feature3, t4, on=['user_id', 'date_received'])\n",
    "other_feature3 = pd.merge(\n",
    "    other_feature3, t5, on=['user_id', 'coupon_id', 'date_received'])\n",
    "other_feature3 = pd.merge(\n",
    "    other_feature3, t7, on=['user_id', 'coupon_id', 'date_received'])\n",
    "other_feature3.to_csv('data/other_feature3.csv', index=None)\n",
    "# print('other_feature3 shape :',other_feature3.shape)\n",
    "# other_feature3.head()"
   ]
  },
  {
   "cell_type": "markdown",
   "metadata": {},
   "source": [
    "##### **other_feature3**\n",
    "\n",
    "共有**{{other_feature3.shape[0]}}**个样本\n",
    "\n",
    "共有**{{other_feature3.shape[1]}}**列特征\n",
    "\n",
    "**{{other_feature3.columns[0]}}**\n",
    "\n",
    "**{{other_feature3.columns[1]}}**\n",
    "\n",
    "**{{other_feature3.columns[2]}}**\n",
    "\n",
    "**{{other_feature3.columns[3]}}**\n",
    "\n",
    "**{{other_feature3.columns[4]}}**\n",
    "\n",
    "**{{other_feature3.columns[5]}}**\n",
    "\n",
    "**{{other_feature3.columns[6]}}**\n",
    "\n",
    "**{{other_feature3.columns[7]}}**\n",
    "\n",
    "**{{other_feature3.columns[8]}}**\n",
    "\n",
    "**{{other_feature3.columns[9]}}**\n",
    "\n",
    "**{{other_feature3.columns[10]}}**\n",
    "\n",
    "{{other_feature3.head(2)}}"
   ]
  },
  {
   "cell_type": "markdown",
   "metadata": {},
   "source": [
    "#### dataset2\n",
    "** dataset2 : 有{{dataset2.shape[0]}}个样本**\n"
   ]
  },
  {
   "cell_type": "markdown",
   "metadata": {},
   "source": [
    "##### get other_feature2"
   ]
  },
  {
   "cell_type": "code",
   "execution_count": 15,
   "metadata": {
    "ExecuteTime": {
     "end_time": "2018-08-07T07:39:20.228407Z",
     "start_time": "2018-08-07T07:39:19.712819Z"
    },
    "code_folding": [
     0,
     68,
     85
    ]
   },
   "outputs": [],
   "source": [
    "def get_feature(dataset):\n",
    "    #for dataset\n",
    "    #dataset['date_received'] = dataset['date_received'].apply(lambda x : str(int(float(x))))\n",
    "    t = dataset[['user_id']]\n",
    "    t['this_month_user_receive_all_coupon_count'] = 1\n",
    "    t = t.groupby('user_id').agg('sum').reset_index()\n",
    "\n",
    "    t1 = dataset[['user_id','coupon_id']]\n",
    "    t1['this_month_user_receive_same_coupon_count'] = 1\n",
    "    t1 = t1.groupby(['user_id','coupon_id']).agg('sum').reset_index()\n",
    "\n",
    "    t2 = dataset[['user_id', 'coupon_id', 'date_received']]\n",
    "    t2.date_received = t2.date_received.astype('str')\n",
    "    t2 = t2.groupby(\n",
    "        ['user_id',\n",
    "         'coupon_id'])['date_received'].agg(lambda x: ':'.join(x)).reset_index()\n",
    "    t2['receive_number'] = t2.date_received.apply(lambda s: len(s.split(':')))\n",
    "    t2 = t2[t2.receive_number > 1]        #保证至少有两条领取记录,代表一定使用过了上一张优惠券\n",
    "    t2['max_date_received'] = t2.date_received.apply(\n",
    "        lambda s: max([int(d) for d in s.split(':')]))\n",
    "    t2['min_date_received'] = t2.date_received.apply(\n",
    "        lambda s: min([int(d) for d in s.split(':')]))\n",
    "    t2 = t2[['user_id', 'coupon_id', 'max_date_received', 'min_date_received']]\n",
    "\n",
    "    t3 = dataset[['user_id', 'coupon_id', 'date_received']]\n",
    "    t3 = pd.merge(t3, t2, on=['user_id', 'coupon_id'], how='left')\n",
    "    t3.date_received = t3.date_received.apply(lambda x : float(x))\n",
    "    t3['this_month_user_receive_same_coupon_lastone'] = t3.max_date_received - t3.date_received\n",
    "    t3['this_month_user_receive_same_coupon_firstone'] = t3.date_received - t3.min_date_received\n",
    "\n",
    "\n",
    "    def is_firstlastone(x):\n",
    "        if x == 0:\n",
    "            return 1\n",
    "        elif x > 0:\n",
    "            return 0\n",
    "        else:\n",
    "            return -1  #those only receive once\n",
    "\n",
    "\n",
    "    t3.this_month_user_receive_same_coupon_lastone = t3.this_month_user_receive_same_coupon_lastone.apply(\n",
    "        is_firstlastone)\n",
    "    t3.this_month_user_receive_same_coupon_firstone = t3.this_month_user_receive_same_coupon_firstone.apply(\n",
    "        is_firstlastone)\n",
    "    t3 = t3[[\n",
    "        'user_id', 'coupon_id', 'date_received',\n",
    "        'this_month_user_receive_same_coupon_lastone',\n",
    "        'this_month_user_receive_same_coupon_firstone'\n",
    "    ]]\n",
    "\n",
    "    t3['date_received'] = t3['date_received'].apply(lambda x : str(int(x)))   #将t3的时间格式转换为str\n",
    "    \n",
    "    \n",
    "    t4 = dataset[['user_id','date_received']]\n",
    "    t4['this_day_user_receive_all_coupon_count'] = 1\n",
    "    t4 = t4.groupby(['user_id','date_received']).agg('sum').reset_index()\n",
    "\n",
    "    t5 = dataset[['user_id','coupon_id','date_received']]\n",
    "    t5['this_day_user_receive_same_coupon_count'] = 1\n",
    "    t5 = t5.groupby(['user_id','coupon_id','date_received']).agg('sum').reset_index()\n",
    "\n",
    "    t6 = dataset[['user_id', 'coupon_id', 'date_received']]\n",
    "    t6.date_received = t6.date_received.astype('str')\n",
    "    t6 = t6.groupby(\n",
    "        ['user_id',\n",
    "         'coupon_id'])['date_received'].agg(lambda x: ':'.join(x)).reset_index()\n",
    "    t6.rename(columns={'date_received': 'dates'}, inplace=True)\n",
    "\n",
    "    def get_day_gap_before(s):\n",
    "        date_received, dates = s.split('-')\n",
    "        dates = dates.split(':')\n",
    "        gaps = []\n",
    "        for d in dates:\n",
    "            this_gap = (date(\n",
    "                int(date_received[0:4]), int(date_received[4:6]),\n",
    "                int(date_received[6:8])) - date(\n",
    "                    int(d[0:4]), int(d[4:6]), int(d[6:8]))).days\n",
    "            if this_gap > 0:                   #只考虑以前领取的\n",
    "                gaps.append(this_gap)\n",
    "        if len(gaps) == 0:\n",
    "            return -1\n",
    "        else:\n",
    "            return min(gaps)\n",
    "\n",
    "\n",
    "    def get_day_gap_after(s):\n",
    "        date_received, dates = s.split('-')\n",
    "        dates = dates.split(':')\n",
    "        gaps = []\n",
    "        for d in dates:\n",
    "            this_gap = (date(int(d[0:4]), int(d[4:6]), int(d[6:8])) - date(\n",
    "                int(date_received[0:4]), int(date_received[4:6]),\n",
    "                int(date_received[6:8]))).days\n",
    "            if this_gap > 0:                    #只考虑之后领取的\n",
    "                gaps.append(this_gap)\n",
    "        if len(gaps) == 0:\n",
    "            return -1\n",
    "        else:\n",
    "            return min(gaps)\n",
    "\n",
    "\n",
    "    t7 = dataset[['user_id', 'coupon_id', 'date_received']]\n",
    "    t7 = pd.merge(t7, t6, on=['user_id', 'coupon_id'], how='left')\n",
    "    t7['date_received_date'] = t7.date_received.astype('str') + '-' + t7.dates\n",
    "    t7['day_gap_before'] = t7.date_received_date.apply(get_day_gap_before)\n",
    "    t7['day_gap_after'] = t7.date_received_date.apply(get_day_gap_after)\n",
    "    t7 = t7[[\n",
    "        'user_id', 'coupon_id', 'date_received', 'day_gap_before', 'day_gap_after'\n",
    "    ]]\n",
    "    \n",
    "    other_feature = pd.merge(t1,t,on='user_id')\n",
    "    other_feature = pd.merge(other_feature,t3,on=['user_id','coupon_id'])\n",
    "    other_feature = pd.merge(other_feature,t4,on=['user_id','date_received'])\n",
    "    other_feature = pd.merge(other_feature,t5,on=['user_id','coupon_id','date_received'])\n",
    "    other_feature = pd.merge(other_feature,t7,on=['user_id','coupon_id','date_received'])\n",
    "#     other_feature.to_csv('data/other_feature2.csv',index=None)\n",
    "#     print(other_feature2.shape)\n",
    "    return other_feature"
   ]
  },
  {
   "cell_type": "code",
   "execution_count": 16,
   "metadata": {
    "ExecuteTime": {
     "end_time": "2018-08-07T07:39:46.976550Z",
     "start_time": "2018-08-07T07:39:28.743439Z"
    }
   },
   "outputs": [],
   "source": [
    "other_feature2 = get_feature(dataset2)\n",
    "# print('shape :',other_feature2.shape)\n",
    "# print('columns : ',other_feature2.columns)\n",
    "other_feature2.to_csv('data/other_feature2.csv',index=None)"
   ]
  },
  {
   "cell_type": "markdown",
   "metadata": {
    "ExecuteTime": {
     "end_time": "2018-08-06T12:15:08.380095Z",
     "start_time": "2018-08-06T12:15:08.333230Z"
    }
   },
   "source": [
    "##### **other_feature2**\n",
    "\n",
    "共有**{{other_feature2.shape[0]}}**个样本\n",
    "\n",
    "共有**{{other_feature2.shape[1]}}**列特征\n",
    "\n",
    "**{{other_feature2.columns[0]}}**\n",
    "\n",
    "**{{other_feature2.columns[1]}}**\n",
    "\n",
    "**{{other_feature2.columns[2]}}**\n",
    "\n",
    "**{{other_feature2.columns[3]}}**\n",
    "\n",
    "**{{other_feature2.columns[4]}}**\n",
    "\n",
    "**{{other_feature2.columns[5]}}**\n",
    "\n",
    "**{{other_feature2.columns[6]}}**\n",
    "\n",
    "**{{other_feature2.columns[7]}}**\n",
    "\n",
    "**{{other_feature2.columns[8]}}**\n",
    "\n",
    "**{{other_feature2.columns[9]}}**\n",
    "\n",
    "**{{other_feature2.columns[10]}}**\n",
    "\n",
    "{{other_feature2.head(2)}}"
   ]
  },
  {
   "cell_type": "markdown",
   "metadata": {
    "code_folding": [
     0
    ]
   },
   "source": [
    "#### dataset1\n",
    "** dataset1 : 有{{dataset1.shape[0]}}个样本**"
   ]
  },
  {
   "cell_type": "markdown",
   "metadata": {},
   "source": [
    "##### get other_feature1"
   ]
  },
  {
   "cell_type": "code",
   "execution_count": 17,
   "metadata": {
    "ExecuteTime": {
     "end_time": "2018-08-07T07:40:06.600204Z",
     "start_time": "2018-08-07T07:39:57.960169Z"
    },
    "scrolled": false
   },
   "outputs": [],
   "source": [
    "other_feature1 = get_feature(dataset1)\n",
    "# print('shape :',other_feature1.shape)\n",
    "# print('columns : ',other_feature1.columns)\n",
    "\n",
    "other_feature1.to_csv('data/other_feature1.csv',index=None)"
   ]
  },
  {
   "cell_type": "markdown",
   "metadata": {},
   "source": [
    "##### **other_feature1**\n",
    "\n",
    "共有**{{other_feature1.shape[0]}}**个样本\n",
    "\n",
    "共有**{{other_feature1.shape[1]}}**列特征\n",
    "\n",
    "**{{other_feature1.columns[0]}}**\n",
    "\n",
    "**{{other_feature1.columns[1]}}**\n",
    "\n",
    "**{{other_feature1.columns[2]}}**\n",
    "\n",
    "**{{other_feature1.columns[3]}}**\n",
    "\n",
    "**{{other_feature1.columns[4]}}**\n",
    "\n",
    "**{{other_feature1.columns[5]}}**\n",
    "\n",
    "**{{other_feature1.columns[6]}}**\n",
    "\n",
    "**{{other_feature1.columns[7]}}**\n",
    "\n",
    "**{{other_feature1.columns[8]}}**\n",
    "\n",
    "**{{other_feature1.columns[9]}}**\n",
    "\n",
    "**{{other_feature1.columns[10]}}**\n",
    "\n",
    "{{other_feature1.head(2)}}"
   ]
  },
  {
   "cell_type": "markdown",
   "metadata": {},
   "source": [
    "### **优惠券相关的特征**\n",
    "- **优惠券类型(直接优惠为0, 满减为1)**\n",
    "- **优惠券折率**\n",
    "- **满减优惠券的最低消费**\n",
    "- **历史出现次数**\n",
    "- 历史核销次数\n",
    "- 历史核销率\n",
    "- 历史核销时间率\n",
    "- 领取优惠券是一周的第几天\n",
    "- 领取优惠券是一月的第几天\n",
    "- 历史上用户领取该优惠券次数\n",
    "- 历史上用户消费该优惠券次数\n",
    "- 历史上用户对该优惠券的核销率"
   ]
  },
  {
   "cell_type": "markdown",
   "metadata": {},
   "source": [
    "#### 判断函数\n",
    "\n",
    "\n",
    ">**折扣率**\n",
    "\n",
    ">**满多少**\n",
    "\n",
    ">**减多少**\n",
    "\n",
    ">**是否满减/直接打折**"
   ]
  },
  {
   "cell_type": "code",
   "execution_count": 19,
   "metadata": {
    "ExecuteTime": {
     "end_time": "2018-08-07T07:40:41.285288Z",
     "start_time": "2018-08-07T07:40:41.222788Z"
    },
    "code_folding": [
     0,
     8,
     16,
     24
    ]
   },
   "outputs": [],
   "source": [
    "def calc_discount_rate(s):\n",
    "    s =str(s)\n",
    "    s = s.split(':')\n",
    "    if len(s)==1:\n",
    "        return float(s[0])\n",
    "    else:\n",
    "        return 1.0-float(s[1])/float(s[0])\n",
    "\n",
    "def get_discount_man(s):\n",
    "    s =str(s)\n",
    "    s = s.split(':')\n",
    "    if len(s)==1:\n",
    "        return 'null'\n",
    "    else:\n",
    "        return int(s[0])\n",
    "        \n",
    "def get_discount_jian(s):\n",
    "    s =str(s)\n",
    "    s = s.split(':')\n",
    "    if len(s)==1:\n",
    "        return 'null'\n",
    "    else:\n",
    "        return int(s[1])\n",
    "\n",
    "def is_man_jian(s):\n",
    "    s =str(s)\n",
    "    s = s.split(':')\n",
    "    if len(s)==1:\n",
    "        return 0\n",
    "    else:\n",
    "        return 1"
   ]
  },
  {
   "cell_type": "markdown",
   "metadata": {},
   "source": [
    "#### dataset3 构建特征\n",
    "因为有对比训练集时间间隔变量，所以不做成单独函数"
   ]
  },
  {
   "cell_type": "code",
   "execution_count": 20,
   "metadata": {
    "ExecuteTime": {
     "end_time": "2018-08-07T07:40:56.581094Z",
     "start_time": "2018-08-07T07:40:54.487490Z"
    },
    "code_folding": []
   },
   "outputs": [],
   "source": [
    "#dataset3\n",
    "dataset3['day_of_week'] = dataset3.date_received.astype('str').apply(\n",
    "    lambda x: date(int(x[0:4]), int(x[4:6]), int(x[6:8])).weekday() + 1)\n",
    "dataset3['day_of_month'] = dataset3.date_received.astype('str').apply(\n",
    "    lambda x: int(x[6:8]))\n",
    "dataset3['days_distance'] = dataset3.date_received.astype('str').apply(\n",
    "    lambda x: (date(int(x[0:4]), int(x[4:6]), int(x[6:8])) - date(2016, 6, 30)).days\n",
    ")\n",
    "dataset3['discount_man'] = dataset3.discount_rate.apply(get_discount_man)\n",
    "dataset3['discount_jian'] = dataset3.discount_rate.apply(get_discount_jian)\n",
    "dataset3['is_man_jian'] = dataset3.discount_rate.apply(is_man_jian)\n",
    "dataset3['discount_rate'] = dataset3.discount_rate.apply(calc_discount_rate)\n",
    "#先提取出统计特征（小数据集），然后合并到原来的大数据集\n",
    "d = dataset3[['coupon_id']]\n",
    "d['coupon_count'] = 1\n",
    "d = d.groupby('coupon_id').agg('sum').reset_index()\n",
    "dataset3 = pd.merge(dataset3, d, on='coupon_id', how='left')\n",
    "dataset3.to_csv('data/coupon3_feature.csv', index=None)"
   ]
  },
  {
   "cell_type": "markdown",
   "metadata": {},
   "source": [
    "#### dataset2 构建特征"
   ]
  },
  {
   "cell_type": "code",
   "execution_count": 22,
   "metadata": {
    "ExecuteTime": {
     "end_time": "2018-08-07T07:41:23.907321Z",
     "start_time": "2018-08-07T07:41:20.704433Z"
    },
    "code_folding": []
   },
   "outputs": [],
   "source": [
    "#dataset2\n",
    "dataset2['day_of_week'] = dataset2.date_received.astype('str').apply(\n",
    "    lambda x: date(int(x[0:4]), int(x[4:6]), int(x[6:8])).weekday() + 1)\n",
    "dataset2['day_of_month'] = dataset2.date_received.astype('str').apply(\n",
    "    lambda x: int(x[6:8]))\n",
    "dataset2['days_distance'] = dataset2.date_received.astype('str').apply(\n",
    "    lambda x: (date(int(x[0:4]), int(x[4:6]), int(x[6:8])) - date(2016, 5, 14)).days\n",
    ")\n",
    "dataset2['discount_man'] = dataset2.discount_rate.apply(get_discount_man)\n",
    "dataset2['discount_jian'] = dataset2.discount_rate.apply(get_discount_jian)\n",
    "dataset2['is_man_jian'] = dataset2.discount_rate.apply(is_man_jian)\n",
    "dataset2['discount_rate'] = dataset2.discount_rate.apply(calc_discount_rate)\n",
    "d = dataset2[['coupon_id']]\n",
    "d['coupon_count'] = 1\n",
    "d = d.groupby('coupon_id').agg('sum').reset_index()\n",
    "dataset2 = pd.merge(dataset2, d, on='coupon_id', how='left')\n",
    "dataset2.to_csv('data/coupon2_feature.csv', index=None)"
   ]
  },
  {
   "cell_type": "markdown",
   "metadata": {},
   "source": [
    "#### dataset1 构建特征"
   ]
  },
  {
   "cell_type": "code",
   "execution_count": 24,
   "metadata": {
    "ExecuteTime": {
     "end_time": "2018-08-07T07:41:44.858992Z",
     "start_time": "2018-08-07T07:41:41.531106Z"
    },
    "code_folding": [],
    "scrolled": true
   },
   "outputs": [],
   "source": [
    "#dataset1\n",
    "dataset1['day_of_week'] = dataset1.date_received.astype('str').apply(\n",
    "    lambda x: date(int(x[0:4]), int(x[4:6]), int(x[6:8])).weekday() + 1)\n",
    "dataset1['day_of_month'] = dataset1.date_received.astype('str').apply(\n",
    "    lambda x: int(x[6:8]))\n",
    "dataset1['days_distance'] = dataset1.date_received.astype('str').apply(\n",
    "    lambda x: (date(int(x[0:4]), int(x[4:6]), int(x[6:8])) - date(2016, 4, 13)).days\n",
    ")\n",
    "dataset1['discount_man'] = dataset1.discount_rate.apply(get_discount_man)\n",
    "dataset1['discount_jian'] = dataset1.discount_rate.apply(get_discount_jian)\n",
    "dataset1['is_man_jian'] = dataset1.discount_rate.apply(is_man_jian)\n",
    "dataset1['discount_rate'] = dataset1.discount_rate.apply(calc_discount_rate)\n",
    "d = dataset1[['coupon_id']]\n",
    "d['coupon_count'] = 1\n",
    "d = d.groupby('coupon_id').agg('sum').reset_index()\n",
    "dataset1 = pd.merge(dataset1, d, on='coupon_id', how='left')\n",
    "dataset1.to_csv('data/coupon1_feature.csv', index=None)"
   ]
  },
  {
   "cell_type": "markdown",
   "metadata": {},
   "source": [
    "### **商家相关的特征**\n",
    "- **商家消费记录数目**\n",
    "- **商家优惠券使用记录**\n",
    "- **商家优惠券被领取次数**\n",
    "- **商家发出多少优惠券**\n",
    "- 商家优惠券被领取后不核销次数\n",
    "- 商家优惠券被领取后核销次数\n",
    "- **商家优惠券被领取后核销率**\n",
    "- 商家优惠券核销的平均/最小/最大消费折率\n",
    "- 核销商家优惠券的不同用户数量，及其占领取不同的用户比重\n",
    "- **商家销售中使用优惠券概率**\n",
    "- **商家优惠券核销率**\n",
    "- 商家优惠券平均每个用户核销多少张\n",
    "- 商家被核销过的不同优惠券数量\n",
    "- 商家被核销过的不同优惠券数量占所有领取过的不同优惠券数量的比重\n",
    "- 商家平均每种优惠券核销多少张\n",
    "- 商家被核销优惠券的平均时间率\n",
    "- **商家被核销优惠券中的平均/最小/最大用户-商家距离**"
   ]
  },
  {
   "cell_type": "markdown",
   "metadata": {},
   "source": [
    "#### dataset3 feature3"
   ]
  },
  {
   "cell_type": "markdown",
   "metadata": {
    "ExecuteTime": {
     "end_time": "2018-08-06T13:30:43.152906Z",
     "start_time": "2018-08-06T13:30:43.121660Z"
    }
   },
   "source": [
    "##### **feature3**\n",
    "\n",
    "共有**{{feature3.shape[0]}}**个样本\n",
    "\n",
    "共有**{{feature3.shape[1]}}**列特征\n",
    "\n",
    "**{{feature1.columns[0]}} ---- {{feature3['user_id'].nunique()}}个用户** \n",
    "\n",
    "**{{feature1.columns[1]}}---- {{feature3['merchant_id'].nunique()}}个商家**\n",
    "\n",
    "**{{feature1.columns[2]}}---- {{feature3['coupon_id'].nunique()}}种优惠券**\n",
    "\n",
    "**{{feature3.columns[3]}}**\n",
    "\n",
    "**{{feature3.columns[4]}}**\n",
    "\n",
    "**{{feature3.columns[5]}}**\n",
    "\n",
    "**{{feature3.columns[6]}}**\n",
    "\n",
    "{{feature3.head(2)}}"
   ]
  },
  {
   "cell_type": "markdown",
   "metadata": {},
   "source": [
    "##### get merchant feature"
   ]
  },
  {
   "cell_type": "code",
   "execution_count": 25,
   "metadata": {
    "ExecuteTime": {
     "end_time": "2018-08-07T07:42:18.450409Z",
     "start_time": "2018-08-07T07:42:16.794287Z"
    },
    "code_folding": [
     0
    ]
   },
   "outputs": [],
   "source": [
    "#for dataset3\n",
    "merchant3 = feature3[[\n",
    "    'merchant_id', 'coupon_id', 'distance', 'date_received', 'date'\n",
    "]]\n",
    "\n",
    "t = merchant3[['merchant_id']]\n",
    "t.drop_duplicates(inplace=True)\n",
    "\n",
    "#每商家总消费记录数目\n",
    "t1 = merchant3[merchant3.date != 'null'][['merchant_id']]\n",
    "t1['total_sales'] = 1\n",
    "t1 = t1.groupby('merchant_id').agg('sum').reset_index()\n",
    "#商家优惠券使用记录\n",
    "t2 = merchant3[(merchant3.date != 'null') & (merchant3.coupon_id != 'null')][[\n",
    "    'merchant_id'\n",
    "]]\n",
    "t2['sales_use_coupon'] = 1\n",
    "t2 = t2.groupby('merchant_id').agg('sum').reset_index()\n",
    "#每家店发出多少优惠券\n",
    "t3 = merchant3[merchant3.coupon_id != 'null'][['merchant_id']]\n",
    "t3['total_coupon'] = 1\n",
    "t3 = t3.groupby('merchant_id').agg('sum').reset_index()\n",
    "#商家被核销优惠券中的平均/最小/最大/中位数用户-商家距离\n",
    "t4 = merchant3[(merchant3.date != 'null') & (merchant3.coupon_id != 'null')][[\n",
    "    'merchant_id', 'distance'\n",
    "]]\n",
    "t4.replace('null', -1, inplace=True)\n",
    "t4.distance = t4.distance.astype('int')\n",
    "t4.replace(-1, np.nan, inplace=True)\n",
    "t5 = t4.groupby('merchant_id').agg('min').reset_index()\n",
    "t5.rename(columns={'distance': 'merchant_min_distance'}, inplace=True)\n",
    "\n",
    "t6 = t4.groupby('merchant_id').agg('max').reset_index()\n",
    "t6.rename(columns={'distance': 'merchant_max_distance'}, inplace=True)\n",
    "\n",
    "t7 = t4.groupby('merchant_id').agg('mean').reset_index()\n",
    "t7.rename(columns={'distance': 'merchant_mean_distance'}, inplace=True)\n",
    "\n",
    "t8 = t4.groupby('merchant_id').agg('median').reset_index()\n",
    "t8.rename(columns={'distance': 'merchant_median_distance'}, inplace=True)\n",
    "\n",
    "merchant3_feature = pd.merge(t, t1, on='merchant_id', how='left')\n",
    "merchant3_feature = pd.merge(\n",
    "    merchant3_feature, t2, on='merchant_id', how='left')\n",
    "merchant3_feature = pd.merge(\n",
    "    merchant3_feature, t3, on='merchant_id', how='left')\n",
    "merchant3_feature = pd.merge(\n",
    "    merchant3_feature, t5, on='merchant_id', how='left')\n",
    "merchant3_feature = pd.merge(\n",
    "    merchant3_feature, t6, on='merchant_id', how='left')\n",
    "merchant3_feature = pd.merge(\n",
    "    merchant3_feature, t7, on='merchant_id', how='left')\n",
    "merchant3_feature = pd.merge(\n",
    "    merchant3_feature, t8, on='merchant_id', how='left')\n",
    "merchant3_feature.sales_use_coupon = merchant3_feature.sales_use_coupon.replace(\n",
    "    np.nan, 0)  #fillna with 0\n",
    "#商家优惠券核销率\n",
    "merchant3_feature[\n",
    "    'merchant_coupon_transfer_rate'] = merchant3_feature.sales_use_coupon.astype(\n",
    "        'float') / merchant3_feature.total_coupon\n",
    "#商家销售中使用优惠券概率\n",
    "merchant3_feature['coupon_rate'] = merchant3_feature.sales_use_coupon.astype(\n",
    "    'float') / merchant3_feature.total_sales\n",
    "\n",
    "merchant3_feature.total_coupon = merchant3_feature.total_coupon.replace(\n",
    "    np.nan, 0)  #fillna with 0"
   ]
  },
  {
   "cell_type": "code",
   "execution_count": 26,
   "metadata": {
    "ExecuteTime": {
     "end_time": "2018-08-07T07:42:21.606443Z",
     "start_time": "2018-08-07T07:42:21.418964Z"
    }
   },
   "outputs": [],
   "source": [
    "merchant3_feature.to_csv('data/merchant3_feature.csv', index=None)"
   ]
  },
  {
   "cell_type": "markdown",
   "metadata": {
    "ExecuteTime": {
     "end_time": "2018-08-06T13:31:14.822591Z",
     "start_time": "2018-08-06T13:31:14.775712Z"
    }
   },
   "source": [
    "##### **merchant3_feature**\n",
    "\n",
    "共有**{{merchant3_feature.shape[0]}}**个样本\n",
    "\n",
    "共有**{{merchant3_feature.shape[1]}}**列特征\n",
    "\n",
    "**{{merchant3_feature.columns[0]}}**\n",
    "\n",
    "**{{merchant3_feature.columns[1]}}**\n",
    "\n",
    "**{{merchant3_feature.columns[2]}}**\n",
    "\n",
    "**{{merchant3_feature.columns[3]}}**\n",
    "\n",
    "**{{merchant3_feature.columns[4]}}**\n",
    "\n",
    "**{{merchant3_feature.columns[5]}}**\n",
    "\n",
    "**{{merchant3_feature.columns[6]}}**\n",
    "\n",
    "**{{merchant3_feature.columns[7]}}**\n",
    "\n",
    "**{{merchant3_feature.columns[8]}}**\n",
    "\n",
    "**{{merchant3_feature.columns[9]}}**\n",
    "\n",
    "{{merchant3_feature.head(2)}}"
   ]
  },
  {
   "cell_type": "markdown",
   "metadata": {},
   "source": [
    "#### dataset2 feature2"
   ]
  },
  {
   "cell_type": "markdown",
   "metadata": {
    "ExecuteTime": {
     "end_time": "2018-08-06T13:30:43.152906Z",
     "start_time": "2018-08-06T13:30:43.121660Z"
    }
   },
   "source": [
    "##### **feature2**\n",
    "\n",
    "共有**{{feature2.shape[0]}}**个样本\n",
    "\n",
    "共有**{{feature2.shape[1]}}**列特征\n",
    "\n",
    "**{{feature1.columns[0]}} ---- {{feature2['user_id'].nunique()}}个用户** \n",
    "\n",
    "**{{feature1.columns[1]}}---- {{feature2['merchant_id'].nunique()}}个商家**\n",
    "\n",
    "**{{feature1.columns[2]}}---- {{feature2['coupon_id'].nunique()}}种优惠券**\n",
    "\n",
    "**{{feature2.columns[3]}}**\n",
    "\n",
    "**{{feature2.columns[4]}}**\n",
    "\n",
    "**{{feature2.columns[5]}}**\n",
    "\n",
    "**{{feature2.columns[6]}}**\n",
    "\n",
    "{{feature2.head(2)}}"
   ]
  },
  {
   "cell_type": "markdown",
   "metadata": {},
   "source": [
    "##### get merchant feature2"
   ]
  },
  {
   "cell_type": "code",
   "execution_count": 27,
   "metadata": {
    "ExecuteTime": {
     "end_time": "2018-08-07T07:42:36.620998Z",
     "start_time": "2018-08-07T07:42:35.246131Z"
    },
    "code_folding": [
     0
    ]
   },
   "outputs": [],
   "source": [
    "#for dataset2\n",
    "merchant2 = feature2[['merchant_id','coupon_id','distance','date_received','date']]\n",
    "\n",
    "t = merchant2[['merchant_id']]\n",
    "t.drop_duplicates(inplace=True)\n",
    "\n",
    "t1 = merchant2[merchant2.date!='null'][['merchant_id']]\n",
    "t1['total_sales'] = 1\n",
    "t1 = t1.groupby('merchant_id').agg('sum').reset_index()\n",
    "\n",
    "t2 = merchant2[(merchant2.date!='null')&(merchant2.coupon_id!='null')][['merchant_id']]\n",
    "t2['sales_use_coupon'] = 1\n",
    "t2 = t2.groupby('merchant_id').agg('sum').reset_index()\n",
    "\n",
    "t3 = merchant2[merchant2.coupon_id!='null'][['merchant_id']]\n",
    "t3['total_coupon'] = 1\n",
    "t3 = t3.groupby('merchant_id').agg('sum').reset_index()\n",
    "\n",
    "t4 = merchant2[(merchant2.date!='null')&(merchant2.coupon_id!='null')][['merchant_id','distance']]\n",
    "t4.replace('null',-1,inplace=True)\n",
    "t4.distance = t4.distance.astype('int')\n",
    "t4.replace(-1,np.nan,inplace=True)\n",
    "t5 = t4.groupby('merchant_id').agg('min').reset_index()\n",
    "t5.rename(columns={'distance':'merchant_min_distance'},inplace=True)\n",
    "\n",
    "t6 = t4.groupby('merchant_id').agg('max').reset_index()\n",
    "t6.rename(columns={'distance':'merchant_max_distance'},inplace=True)\n",
    "\n",
    "t7 = t4.groupby('merchant_id').agg('mean').reset_index()\n",
    "t7.rename(columns={'distance':'merchant_mean_distance'},inplace=True)\n",
    "\n",
    "t8 = t4.groupby('merchant_id').agg('median').reset_index()\n",
    "t8.rename(columns={'distance':'merchant_median_distance'},inplace=True)\n",
    "\n",
    "merchant2_feature = pd.merge(t,t1,on='merchant_id',how='left')\n",
    "merchant2_feature = pd.merge(merchant2_feature,t2,on='merchant_id',how='left')\n",
    "merchant2_feature = pd.merge(merchant2_feature,t3,on='merchant_id',how='left')\n",
    "merchant2_feature = pd.merge(merchant2_feature,t5,on='merchant_id',how='left')\n",
    "merchant2_feature = pd.merge(merchant2_feature,t6,on='merchant_id',how='left')\n",
    "merchant2_feature = pd.merge(merchant2_feature,t7,on='merchant_id',how='left')\n",
    "merchant2_feature = pd.merge(merchant2_feature,t8,on='merchant_id',how='left')\n",
    "merchant2_feature.sales_use_coupon = merchant2_feature.sales_use_coupon.replace(np.nan,0) #fillna with 0\n",
    "merchant2_feature['merchant_coupon_transfer_rate'] = merchant2_feature.sales_use_coupon.astype('float') / merchant2_feature.total_coupon\n",
    "merchant2_feature['coupon_rate'] = merchant2_feature.sales_use_coupon.astype('float') / merchant2_feature.total_sales\n",
    "merchant2_feature.total_coupon = merchant2_feature.total_coupon.replace(np.nan,0) #fillna with 0\n"
   ]
  },
  {
   "cell_type": "code",
   "execution_count": 28,
   "metadata": {
    "ExecuteTime": {
     "end_time": "2018-08-07T07:42:38.870874Z",
     "start_time": "2018-08-07T07:42:38.667766Z"
    }
   },
   "outputs": [],
   "source": [
    "merchant2_feature.to_csv('data/merchant2_feature.csv',index=None)"
   ]
  },
  {
   "cell_type": "markdown",
   "metadata": {
    "ExecuteTime": {
     "end_time": "2018-08-06T13:31:14.822591Z",
     "start_time": "2018-08-06T13:31:14.775712Z"
    }
   },
   "source": [
    "##### **merchant2_feature**\n",
    "\n",
    "共有**{{merchant2_feature.shape[0]}}**个样本\n",
    "\n",
    "共有**{{merchant2_feature.shape[1]}}**列特征\n",
    "\n",
    "**{{merchant2_feature.columns[0]}}**\n",
    "\n",
    "**{{merchant2_feature.columns[1]}}**\n",
    "\n",
    "**{{merchant2_feature.columns[2]}}**\n",
    "\n",
    "**{{merchant2_feature.columns[3]}}**\n",
    "\n",
    "**{{merchant2_feature.columns[4]}}**\n",
    "\n",
    "**{{merchant2_feature.columns[5]}}**\n",
    "\n",
    "**{{merchant2_feature.columns[6]}}**\n",
    "\n",
    "**{{merchant2_feature.columns[7]}}**\n",
    "\n",
    "**{{merchant2_feature.columns[8]}}**\n",
    "\n",
    "**{{merchant2_feature.columns[9]}}**\n",
    "\n",
    "{{merchant2_feature.head(2)}}"
   ]
  },
  {
   "cell_type": "markdown",
   "metadata": {},
   "source": [
    "#### dataset1 feature1"
   ]
  },
  {
   "cell_type": "markdown",
   "metadata": {
    "ExecuteTime": {
     "end_time": "2018-08-06T13:30:43.152906Z",
     "start_time": "2018-08-06T13:30:43.121660Z"
    }
   },
   "source": [
    "##### **feature1**\n",
    "\n",
    "共有**{{feature1.shape[0]}}**个样本\n",
    "\n",
    "共有**{{feature1.shape[1]}}**列特征\n",
    "\n",
    "**{{feature1.columns[0]}} ---- {{feature1['user_id'].nunique()}}个用户** \n",
    "\n",
    "**{{feature1.columns[1]}}---- {{feature1['merchant_id'].nunique()}}个商家**\n",
    "\n",
    "**{{feature1.columns[2]}}---- {{feature1['coupon_id'].nunique()}}种优惠券**\n",
    "\n",
    "**{{feature1.columns[3]}}**\n",
    "\n",
    "**{{feature1.columns[4]}}**\n",
    "\n",
    "**{{feature1.columns[5]}}**\n",
    "\n",
    "**{{feature1.columns[6]}}**\n",
    "\n",
    "{{feature1.head(2)}}"
   ]
  },
  {
   "cell_type": "markdown",
   "metadata": {},
   "source": [
    "##### get merchant feature1"
   ]
  },
  {
   "cell_type": "code",
   "execution_count": 29,
   "metadata": {
    "ExecuteTime": {
     "end_time": "2018-08-07T07:42:53.213623Z",
     "start_time": "2018-08-07T07:42:51.744983Z"
    },
    "code_folding": [
     0
    ]
   },
   "outputs": [],
   "source": [
    "#for dataset1\n",
    "merchant1 = feature1[['merchant_id','coupon_id','distance','date_received','date']]\n",
    "\n",
    "t = merchant1[['merchant_id']]\n",
    "t.drop_duplicates(inplace=True)\n",
    "\n",
    "t1 = merchant1[merchant1.date!='null'][['merchant_id']]\n",
    "t1['total_sales'] = 1\n",
    "t1 = t1.groupby('merchant_id').agg('sum').reset_index()\n",
    "\n",
    "t2 = merchant1[(merchant1.date!='null')&(merchant1.coupon_id!='null')][['merchant_id']]\n",
    "t2['sales_use_coupon'] = 1\n",
    "t2 = t2.groupby('merchant_id').agg('sum').reset_index()\n",
    "\n",
    "t3 = merchant1[merchant1.coupon_id!='null'][['merchant_id']]\n",
    "t3['total_coupon'] = 1\n",
    "t3 = t3.groupby('merchant_id').agg('sum').reset_index()\n",
    "\n",
    "t4 = merchant1[(merchant1.date!='null')&(merchant1.coupon_id!='null')][['merchant_id','distance']]\n",
    "t4.replace('null',-1,inplace=True)\n",
    "t4.distance = t4.distance.astype('int')\n",
    "t4.replace(-1,np.nan,inplace=True)\n",
    "t5 = t4.groupby('merchant_id').agg('min').reset_index()\n",
    "t5.rename(columns={'distance':'merchant_min_distance'},inplace=True)\n",
    "\n",
    "t6 = t4.groupby('merchant_id').agg('max').reset_index()\n",
    "t6.rename(columns={'distance':'merchant_max_distance'},inplace=True)\n",
    "\n",
    "t7 = t4.groupby('merchant_id').agg('mean').reset_index()\n",
    "t7.rename(columns={'distance':'merchant_mean_distance'},inplace=True)\n",
    "\n",
    "t8 = t4.groupby('merchant_id').agg('median').reset_index()\n",
    "t8.rename(columns={'distance':'merchant_median_distance'},inplace=True)\n",
    "\n",
    "\n",
    "merchant1_feature = pd.merge(t,t1,on='merchant_id',how='left')\n",
    "merchant1_feature = pd.merge(merchant1_feature,t2,on='merchant_id',how='left')\n",
    "merchant1_feature = pd.merge(merchant1_feature,t3,on='merchant_id',how='left')\n",
    "merchant1_feature = pd.merge(merchant1_feature,t5,on='merchant_id',how='left')\n",
    "merchant1_feature = pd.merge(merchant1_feature,t6,on='merchant_id',how='left')\n",
    "merchant1_feature = pd.merge(merchant1_feature,t7,on='merchant_id',how='left')\n",
    "merchant1_feature = pd.merge(merchant1_feature,t8,on='merchant_id',how='left')\n",
    "merchant1_feature.sales_use_coupon = merchant1_feature.sales_use_coupon.replace(np.nan,0) #fillna with 0\n",
    "merchant1_feature['merchant_coupon_transfer_rate'] = merchant1_feature.sales_use_coupon.astype('float') / merchant1_feature.total_coupon\n",
    "merchant1_feature['coupon_rate'] = merchant1_feature.sales_use_coupon.astype('float') / merchant1_feature.total_sales\n",
    "merchant1_feature.total_coupon = merchant1_feature.total_coupon.replace(np.nan,0) #fillna with 0\n"
   ]
  },
  {
   "cell_type": "code",
   "execution_count": 30,
   "metadata": {
    "ExecuteTime": {
     "end_time": "2018-08-07T07:42:54.588528Z",
     "start_time": "2018-08-07T07:42:54.463536Z"
    }
   },
   "outputs": [],
   "source": [
    "merchant1_feature.to_csv('data/merchant1_feature.csv',index=None)"
   ]
  },
  {
   "cell_type": "markdown",
   "metadata": {
    "ExecuteTime": {
     "end_time": "2018-08-06T13:31:14.822591Z",
     "start_time": "2018-08-06T13:31:14.775712Z"
    }
   },
   "source": [
    "##### **merchant1_feature**\n",
    "\n",
    "共有**{{merchant1_feature.shape[0]}}**个样本\n",
    "\n",
    "共有**{{merchant1_feature.shape[1]}}**列特征\n",
    "\n",
    "**{{merchant1_feature.columns[0]}}**\n",
    "\n",
    "**{{merchant1_feature.columns[1]}}**\n",
    "\n",
    "**{{merchant1_feature.columns[2]}}**\n",
    "\n",
    "**{{merchant1_feature.columns[3]}}**\n",
    "\n",
    "**{{merchant1_feature.columns[4]}}**\n",
    "\n",
    "**{{merchant1_feature.columns[5]}}**\n",
    "\n",
    "**{{merchant1_feature.columns[6]}}**\n",
    "\n",
    "**{{merchant1_feature.columns[7]}}**\n",
    "\n",
    "**{{merchant1_feature.columns[8]}}**\n",
    "\n",
    "**{{merchant1_feature.columns[9]}}**\n",
    "\n",
    "{{merchant1_feature.head(2)}}"
   ]
  },
  {
   "cell_type": "markdown",
   "metadata": {},
   "source": [
    "### **用户线下相关的特征**\n",
    "- 用户领取优惠券次数  \n",
    "- 用户获得优惠券但没有消费的次数\n",
    "- 用户获得优惠券并核销次数\n",
    "- 用户领取优惠券后进行核销率\n",
    "- 用户满0~50/50~200/200~500 减的优惠券核销率\n",
    "- 用户核销满0~50/50~200/200~500减的优惠券占所有核销优惠券的比重\n",
    "- 用户核销优惠券的平均/最低/最高消费折率\n",
    "- 用户核销过优惠券的不同商家数量，及其占所有不同商家的比重\n",
    "- 用户核销过的不同优惠券数量，及其占所有不同优惠券的比重\n",
    "- 用户平均核销每个商家多少张优惠券\n",
    "- 用户核销优惠券中的平均/最大/最小用户-商家距离"
   ]
  },
  {
   "cell_type": "code",
   "execution_count": 31,
   "metadata": {
    "ExecuteTime": {
     "end_time": "2018-08-07T07:43:05.775261Z",
     "start_time": "2018-08-07T07:43:05.744012Z"
    },
    "code_folding": [
     0
    ]
   },
   "outputs": [],
   "source": [
    "def get_user_date_datereceived_gap(s):\n",
    "    s = s.split(':')\n",
    "    return (date(int(s[0][0:4]),int(s[0][4:6]),int(s[0][6:8])) - date(int(s[1][0:4]),int(s[1][4:6]),int(s[1][6:8]))).days"
   ]
  },
  {
   "cell_type": "markdown",
   "metadata": {},
   "source": [
    "#### dataset3 feature3\n",
    " **feature3**\n",
    "\n",
    "共有**{{feature3.shape[0]}}**个样本\n",
    "\n",
    "共有**{{feature3.shape[1]}}**列特征"
   ]
  },
  {
   "cell_type": "code",
   "execution_count": 32,
   "metadata": {
    "ExecuteTime": {
     "end_time": "2018-08-07T07:43:21.524159Z",
     "start_time": "2018-08-07T07:43:17.149472Z"
    },
    "code_folding": [
     0
    ]
   },
   "outputs": [],
   "source": [
    "#for dataset3\n",
    "user3 = feature3[['user_id','merchant_id','coupon_id','discount_rate','distance','date_received','date']]\n",
    "\n",
    "t = user3[['user_id']]\n",
    "t.drop_duplicates(inplace=True)\n",
    "\n",
    "#消费者消费店家数目\n",
    "t1 = user3[user3.date!='null'][['user_id','merchant_id']]\n",
    "t1.drop_duplicates(inplace=True)\n",
    "t1.merchant_id = 1\n",
    "t1 = t1.groupby('user_id').agg('sum').reset_index()\n",
    "t1.rename(columns={'merchant_id':'count_merchant'},inplace=True)\n",
    "\n",
    "#消费者领取优惠券最近/最远/平均/中位数距离\n",
    "t2 = user3[(user3.date!='null')&(user3.coupon_id!='null')][['user_id','distance']]\n",
    "t2.replace('null',-1,inplace=True)\n",
    "t2.distance = t2.distance.astype('int')\n",
    "t2.replace(-1,np.nan,inplace=True)\n",
    "t3 = t2.groupby('user_id').agg('min').reset_index()\n",
    "t3.rename(columns={'distance':'user_min_distance'},inplace=True)\n",
    "\n",
    "t4 = t2.groupby('user_id').agg('max').reset_index()\n",
    "t4.rename(columns={'distance':'user_max_distance'},inplace=True)\n",
    "\n",
    "t5 = t2.groupby('user_id').agg('mean').reset_index()\n",
    "t5.rename(columns={'distance':'user_mean_distance'},inplace=True)\n",
    "\n",
    "t6 = t2.groupby('user_id').agg('median').reset_index()\n",
    "t6.rename(columns={'distance':'user_median_distance'},inplace=True)\n",
    "\n",
    "#消费者使用优惠券购买总次数\n",
    "t7 = user3[(user3.date!='null')&(user3.coupon_id!='null')][['user_id']]\n",
    "t7['buy_use_coupon'] = 1\n",
    "t7 = t7.groupby('user_id').agg('sum').reset_index()\n",
    "\n",
    "#消费者消费总次数\n",
    "t8 = user3[user3.date!='null'][['user_id']]\n",
    "t8['buy_total'] = 1\n",
    "t8 = t8.groupby('user_id').agg('sum').reset_index()\n",
    "#每个消费者共领取多少优惠券\n",
    "t9 = user3[user3.coupon_id!='null'][['user_id']]\n",
    "t9['coupon_received'] = 1\n",
    "t9 = t9.groupby('user_id').agg('sum').reset_index()\n",
    "#消费者领取优惠券到使用优惠券时间差\n",
    "t10 = user3[(user3.date_received!='null')&(user3.date!='null')][['user_id','date_received','date']]\n",
    "t10['user_date_datereceived_gap'] = t10.date + ':' + t10.date_received\n",
    "t10.user_date_datereceived_gap = t10.user_date_datereceived_gap.apply(get_user_date_datereceived_gap)\n",
    "t10 = t10[['user_id','user_date_datereceived_gap']]\n",
    "#消费者领取优惠券到使用优惠券平均/最大/最小/中位数时间差\n",
    "t11 = t10.groupby('user_id').agg('mean').reset_index()\n",
    "t11.rename(columns={'user_date_datereceived_gap':'avg_user_date_datereceived_gap'},inplace=True)\n",
    "t12 = t10.groupby('user_id').agg('min').reset_index()\n",
    "t12.rename(columns={'user_date_datereceived_gap':'min_user_date_datereceived_gap'},inplace=True)\n",
    "t13 = t10.groupby('user_id').agg('max').reset_index()\n",
    "t13.rename(columns={'user_date_datereceived_gap':'max_user_date_datereceived_gap'},inplace=True)"
   ]
  },
  {
   "cell_type": "code",
   "execution_count": 33,
   "metadata": {
    "ExecuteTime": {
     "end_time": "2018-08-07T07:43:31.523465Z",
     "start_time": "2018-08-07T07:43:25.633260Z"
    },
    "code_folding": [
     0
    ]
   },
   "outputs": [],
   "source": [
    "#合并列表\n",
    "user3_feature = pd.merge(t,t1,on='user_id',how='left')\n",
    "user3_feature = pd.merge(user3_feature,t3,on='user_id',how='left')\n",
    "user3_feature = pd.merge(user3_feature,t4,on='user_id',how='left')\n",
    "user3_feature = pd.merge(user3_feature,t5,on='user_id',how='left')\n",
    "user3_feature = pd.merge(user3_feature,t6,on='user_id',how='left')\n",
    "user3_feature = pd.merge(user3_feature,t7,on='user_id',how='left')\n",
    "user3_feature = pd.merge(user3_feature,t8,on='user_id',how='left')\n",
    "user3_feature = pd.merge(user3_feature,t9,on='user_id',how='left')\n",
    "user3_feature = pd.merge(user3_feature,t11,on='user_id',how='left')\n",
    "user3_feature = pd.merge(user3_feature,t12,on='user_id',how='left')\n",
    "user3_feature = pd.merge(user3_feature,t13,on='user_id',how='left')\n",
    "user3_feature.count_merchant = user3_feature.count_merchant.replace(np.nan,0)\n",
    "user3_feature.buy_use_coupon = user3_feature.buy_use_coupon.replace(np.nan,0)\n",
    "#消费者使用优惠券频率\n",
    "user3_feature['buy_use_coupon_rate'] = user3_feature.buy_use_coupon.astype('float') / user3_feature.buy_total.astype('float')\n",
    "#消费者优惠券转化率\n",
    "user3_feature['user_coupon_transfer_rate'] = user3_feature.buy_use_coupon.astype('float') / user3_feature.coupon_received.astype('float')\n",
    "user3_feature.buy_total = user3_feature.buy_total.replace(np.nan,0)\n",
    "user3_feature.coupon_received = user3_feature.coupon_received.replace(np.nan,0)\n",
    "user3_feature.to_csv('data/user3_feature.csv',index=None)"
   ]
  },
  {
   "cell_type": "markdown",
   "metadata": {},
   "source": [
    "#### dataset2 feature2\n",
    " **feature2**\n",
    "\n",
    "共有**{{feature2.shape[0]}}**个样本\n",
    "\n",
    "共有**{{feature2.shape[1]}}**列特征"
   ]
  },
  {
   "cell_type": "code",
   "execution_count": 34,
   "metadata": {
    "ExecuteTime": {
     "end_time": "2018-08-07T07:43:37.835524Z",
     "start_time": "2018-08-07T07:43:34.132668Z"
    },
    "code_folding": [
     0
    ]
   },
   "outputs": [],
   "source": [
    "#for dataset2 feature2\n",
    "user2 = feature2[[\n",
    "    'user_id', 'merchant_id', 'coupon_id', 'discount_rate', 'distance',\n",
    "    'date_received', 'date'\n",
    "]]\n",
    "\n",
    "t = user2[['user_id']]\n",
    "t.drop_duplicates(inplace=True)\n",
    "\n",
    "t1 = user2[user2.date != 'null'][['user_id', 'merchant_id']]\n",
    "t1.drop_duplicates(inplace=True)\n",
    "t1.merchant_id = 1\n",
    "t1 = t1.groupby('user_id').agg('sum').reset_index()\n",
    "t1.rename(columns={'merchant_id': 'count_merchant'}, inplace=True)\n",
    "\n",
    "t2 = user2[(user2.date != 'null') & (user2.coupon_id != 'null')][[\n",
    "    'user_id', 'distance'\n",
    "]]\n",
    "t2.replace('null', -1, inplace=True)\n",
    "t2.distance = t2.distance.astype('int')\n",
    "t2.replace(-1, np.nan, inplace=True)\n",
    "t3 = t2.groupby('user_id').agg('min').reset_index()\n",
    "t3.rename(columns={'distance': 'user_min_distance'}, inplace=True)\n",
    "\n",
    "t4 = t2.groupby('user_id').agg('max').reset_index()\n",
    "t4.rename(columns={'distance': 'user_max_distance'}, inplace=True)\n",
    "\n",
    "t5 = t2.groupby('user_id').agg('mean').reset_index()\n",
    "t5.rename(columns={'distance': 'user_mean_distance'}, inplace=True)\n",
    "\n",
    "t6 = t2.groupby('user_id').agg('median').reset_index()\n",
    "t6.rename(columns={'distance': 'user_median_distance'}, inplace=True)\n",
    "\n",
    "t7 = user2[(user2.date != 'null') & (user2.coupon_id != 'null')][['user_id']]\n",
    "t7['buy_use_coupon'] = 1\n",
    "t7 = t7.groupby('user_id').agg('sum').reset_index()\n",
    "\n",
    "t8 = user2[user2.date != 'null'][['user_id']]\n",
    "t8['buy_total'] = 1\n",
    "t8 = t8.groupby('user_id').agg('sum').reset_index()\n",
    "\n",
    "t9 = user2[user2.coupon_id != 'null'][['user_id']]\n",
    "t9['coupon_received'] = 1\n",
    "t9 = t9.groupby('user_id').agg('sum').reset_index()\n",
    "\n",
    "t10 = user2[(user2.date_received != 'null') & (user2.date != 'null')][[\n",
    "    'user_id', 'date_received', 'date'\n",
    "]]\n",
    "t10['user_date_datereceived_gap'] = t10.date + ':' + t10.date_received\n",
    "t10.user_date_datereceived_gap = t10.user_date_datereceived_gap.apply(\n",
    "    get_user_date_datereceived_gap)\n",
    "t10 = t10[['user_id', 'user_date_datereceived_gap']]\n",
    "\n",
    "t11 = t10.groupby('user_id').agg('mean').reset_index()\n",
    "t11.rename(\n",
    "    columns={'user_date_datereceived_gap': 'avg_user_date_datereceived_gap'},\n",
    "    inplace=True)\n",
    "t12 = t10.groupby('user_id').agg('min').reset_index()\n",
    "t12.rename(\n",
    "    columns={'user_date_datereceived_gap': 'min_user_date_datereceived_gap'},\n",
    "    inplace=True)\n",
    "t13 = t10.groupby('user_id').agg('max').reset_index()\n",
    "t13.rename(\n",
    "    columns={'user_date_datereceived_gap': 'max_user_date_datereceived_gap'},\n",
    "    inplace=True)"
   ]
  },
  {
   "cell_type": "code",
   "execution_count": 35,
   "metadata": {
    "ExecuteTime": {
     "end_time": "2018-08-07T07:43:46.756751Z",
     "start_time": "2018-08-07T07:43:41.319669Z"
    },
    "code_folding": [
     0
    ]
   },
   "outputs": [],
   "source": [
    "#合并列表\n",
    "user2_feature = pd.merge(t,t1,on='user_id',how='left')\n",
    "user2_feature = pd.merge(user2_feature,t3,on='user_id',how='left')\n",
    "user2_feature = pd.merge(user2_feature,t4,on='user_id',how='left')\n",
    "user2_feature = pd.merge(user2_feature,t5,on='user_id',how='left')\n",
    "user2_feature = pd.merge(user2_feature,t6,on='user_id',how='left')\n",
    "user2_feature = pd.merge(user2_feature,t7,on='user_id',how='left')\n",
    "user2_feature = pd.merge(user2_feature,t8,on='user_id',how='left')\n",
    "user2_feature = pd.merge(user2_feature,t9,on='user_id',how='left')\n",
    "user2_feature = pd.merge(user2_feature,t11,on='user_id',how='left')\n",
    "user2_feature = pd.merge(user2_feature,t12,on='user_id',how='left')\n",
    "user2_feature = pd.merge(user2_feature,t13,on='user_id',how='left')\n",
    "user2_feature.count_merchant = user2_feature.count_merchant.replace(np.nan,0)\n",
    "user2_feature.buy_use_coupon = user2_feature.buy_use_coupon.replace(np.nan,0)\n",
    "user2_feature['buy_use_coupon_rate'] = user2_feature.buy_use_coupon.astype('float') / user2_feature.buy_total.astype('float')\n",
    "user2_feature['user_coupon_transfer_rate'] = user2_feature.buy_use_coupon.astype('float') / user2_feature.coupon_received.astype('float')\n",
    "user2_feature.buy_total = user2_feature.buy_total.replace(np.nan,0)\n",
    "user2_feature.coupon_received = user2_feature.coupon_received.replace(np.nan,0)\n",
    "user2_feature.to_csv('data/user2_feature.csv',index=None)"
   ]
  },
  {
   "cell_type": "markdown",
   "metadata": {},
   "source": [
    "#### dataset1 feature1\n",
    " **feature1**\n",
    "\n",
    "共有**{{feature1.shape[0]}}**个样本\n",
    "\n",
    "共有**{{feature1.shape[1]}}**列特征"
   ]
  },
  {
   "cell_type": "code",
   "execution_count": 36,
   "metadata": {
    "ExecuteTime": {
     "end_time": "2018-08-07T07:43:55.256192Z",
     "start_time": "2018-08-07T07:43:51.412710Z"
    },
    "code_folding": [
     0
    ]
   },
   "outputs": [],
   "source": [
    "#for dataset1 feature1\n",
    "user1 = feature1[['user_id','merchant_id','coupon_id','discount_rate','distance','date_received','date']]\n",
    "\n",
    "t = user1[['user_id']]\n",
    "t.drop_duplicates(inplace=True)\n",
    "\n",
    "t1 = user1[user1.date!='null'][['user_id','merchant_id']]\n",
    "t1.drop_duplicates(inplace=True)\n",
    "t1.merchant_id = 1\n",
    "t1 = t1.groupby('user_id').agg('sum').reset_index()\n",
    "t1.rename(columns={'merchant_id':'count_merchant'},inplace=True)\n",
    "\n",
    "t2 = user1[(user1.date!='null')&(user1.coupon_id!='null')][['user_id','distance']]\n",
    "t2.replace('null',-1,inplace=True)\n",
    "t2.distance = t2.distance.astype('int')\n",
    "t2.replace(-1,np.nan,inplace=True)\n",
    "t3 = t2.groupby('user_id').agg('min').reset_index()\n",
    "t3.rename(columns={'distance':'user_min_distance'},inplace=True)\n",
    "\n",
    "t4 = t2.groupby('user_id').agg('max').reset_index()\n",
    "t4.rename(columns={'distance':'user_max_distance'},inplace=True)\n",
    "\n",
    "t5 = t2.groupby('user_id').agg('mean').reset_index()\n",
    "t5.rename(columns={'distance':'user_mean_distance'},inplace=True)\n",
    "\n",
    "t6 = t2.groupby('user_id').agg('median').reset_index()\n",
    "t6.rename(columns={'distance':'user_median_distance'},inplace=True)\n",
    "\n",
    "t7 = user1[(user1.date!='null')&(user1.coupon_id!='null')][['user_id']]\n",
    "t7['buy_use_coupon'] = 1\n",
    "t7 = t7.groupby('user_id').agg('sum').reset_index()\n",
    "\n",
    "t8 = user1[user1.date!='null'][['user_id']]\n",
    "t8['buy_total'] = 1\n",
    "t8 = t8.groupby('user_id').agg('sum').reset_index()\n",
    "\n",
    "t9 = user1[user1.coupon_id!='null'][['user_id']]\n",
    "t9['coupon_received'] = 1\n",
    "t9 = t9.groupby('user_id').agg('sum').reset_index()\n",
    "\n",
    "t10 = user1[(user1.date_received!='null')&(user1.date!='null')][['user_id','date_received','date']]\n",
    "t10['user_date_datereceived_gap'] = t10.date + ':' + t10.date_received\n",
    "t10.user_date_datereceived_gap = t10.user_date_datereceived_gap.apply(get_user_date_datereceived_gap)\n",
    "t10 = t10[['user_id','user_date_datereceived_gap']]\n",
    "\n",
    "t11 = t10.groupby('user_id').agg('mean').reset_index()\n",
    "t11.rename(columns={'user_date_datereceived_gap':'avg_user_date_datereceived_gap'},inplace=True)\n",
    "t12 = t10.groupby('user_id').agg('min').reset_index()\n",
    "t12.rename(columns={'user_date_datereceived_gap':'min_user_date_datereceived_gap'},inplace=True)\n",
    "t13 = t10.groupby('user_id').agg('max').reset_index()\n",
    "t13.rename(columns={'user_date_datereceived_gap':'max_user_date_datereceived_gap'},inplace=True)\n"
   ]
  },
  {
   "cell_type": "code",
   "execution_count": 37,
   "metadata": {
    "ExecuteTime": {
     "end_time": "2018-08-07T07:44:05.239874Z",
     "start_time": "2018-08-07T07:43:58.755956Z"
    },
    "code_folding": [
     0
    ]
   },
   "outputs": [],
   "source": [
    "#merge dataframe\n",
    "user1_feature = pd.merge(t,t1,on='user_id',how='left')\n",
    "user1_feature = pd.merge(user1_feature,t3,on='user_id',how='left')\n",
    "user1_feature = pd.merge(user1_feature,t4,on='user_id',how='left')\n",
    "user1_feature = pd.merge(user1_feature,t5,on='user_id',how='left')\n",
    "user1_feature = pd.merge(user1_feature,t6,on='user_id',how='left')\n",
    "user1_feature = pd.merge(user1_feature,t7,on='user_id',how='left')\n",
    "user1_feature = pd.merge(user1_feature,t8,on='user_id',how='left')\n",
    "user1_feature = pd.merge(user1_feature,t9,on='user_id',how='left')\n",
    "user1_feature = pd.merge(user1_feature,t11,on='user_id',how='left')\n",
    "user1_feature = pd.merge(user1_feature,t12,on='user_id',how='left')\n",
    "user1_feature = pd.merge(user1_feature,t13,on='user_id',how='left')\n",
    "user1_feature.count_merchant = user1_feature.count_merchant.replace(np.nan,0)\n",
    "user1_feature.buy_use_coupon = user1_feature.buy_use_coupon.replace(np.nan,0)\n",
    "user1_feature['buy_use_coupon_rate'] = user1_feature.buy_use_coupon.astype('float') / user1_feature.buy_total.astype('float')\n",
    "user1_feature['user_coupon_transfer_rate'] = user1_feature.buy_use_coupon.astype('float') / user1_feature.coupon_received.astype('float')\n",
    "user1_feature.buy_total = user1_feature.buy_total.replace(np.nan,0)\n",
    "user1_feature.coupon_received = user1_feature.coupon_received.replace(np.nan,0)\n",
    "user1_feature.to_csv('data/user1_feature.csv',index=None)"
   ]
  },
  {
   "cell_type": "markdown",
   "metadata": {},
   "source": [
    "### **用户线上相关的特征**\n",
    "- 用户线上操作次数\n",
    "- 用户线上点击率\n",
    "- 用户线上购买率\n",
    "- 用户线上领取率\n",
    "- 用户线上不消费次数\n",
    "- 用户线上优惠券核销次数\n",
    "- 用户线上优惠券核销率\n",
    "- 用户线下不消费次数占线上线下总的不消费次数的比重\n",
    "- 用户线下的优惠券核销次数占线上线下总的优惠券核销次数的比重\n",
    "- 用户线下领取的记录数量占总的记录数量的比重"
   ]
  },
  {
   "cell_type": "markdown",
   "metadata": {},
   "source": [
    "### **用户-商家交互特征**\n",
    "- 用户领取商家的优惠券次数\n",
    "- 用户领取商家的优惠券后不核销次数\n",
    "- 用户领取商家的优惠券后核销次数\n",
    "- 用户领取商家的优惠券后核销率\n",
    "- 用户对每个商家的不核销次数占用户总的不核销次数的比重\n",
    "- 用户对每个商家的优惠券核销次数占用户总的核销次数的比重\n",
    "- 用户对每个商家的不核销次数占商家总的不核销次数的比重\n",
    "- 用户对每个商家的优惠券核销次数占商家总的核销次数的比重"
   ]
  },
  {
   "cell_type": "markdown",
   "metadata": {},
   "source": [
    "#### dataset3 feature3\n",
    "**问题 ：对于仅有一次优惠券记录的用户来说，是否会导致过拟合？**"
   ]
  },
  {
   "cell_type": "code",
   "execution_count": 38,
   "metadata": {
    "ExecuteTime": {
     "end_time": "2018-08-07T07:44:27.988296Z",
     "start_time": "2018-08-07T07:44:21.738728Z"
    },
    "code_folding": [
     0
    ]
   },
   "outputs": [],
   "source": [
    "#for dataset3\n",
    "all_user_merchant = feature3[['user_id','merchant_id']]\n",
    "all_user_merchant.drop_duplicates(inplace=True)\n",
    "\n",
    "#用户在该商家消费总计\n",
    "t = feature3[['user_id','merchant_id','date']]\n",
    "t = t[t.date!='null'][['user_id','merchant_id']]\n",
    "t['user_merchant_buy_total'] = 1\n",
    "t = t.groupby(['user_id','merchant_id']).agg('sum').reset_index()\n",
    "t.drop_duplicates(inplace=True)\n",
    "\n",
    "#用户领取该商家优惠券总计\n",
    "t1 = feature3[['user_id','merchant_id','coupon_id']]\n",
    "t1 = t1[t1.coupon_id!='null'][['user_id','merchant_id']]\n",
    "t1['user_merchant_received'] = 1\n",
    "t1 = t1.groupby(['user_id','merchant_id']).agg('sum').reset_index()\n",
    "t1.drop_duplicates(inplace=True)\n",
    "\n",
    "#用户于该商家使用其优惠券总计\n",
    "t2 = feature3[['user_id','merchant_id','date','date_received']]\n",
    "t2 = t2[(t2.date!='null')&(t2.date_received!='null')][['user_id','merchant_id']]\n",
    "t2['user_merchant_buy_use_coupon'] = 1\n",
    "t2 = t2.groupby(['user_id','merchant_id']).agg('sum').reset_index()\n",
    "t2.drop_duplicates(inplace=True)\n",
    "\n",
    "#用户于该商家相关记录（优惠券领取，单纯消费等）总计\n",
    "t3 = feature3[['user_id','merchant_id']]\n",
    "t3['user_merchant_any'] = 1\n",
    "t3 = t3.groupby(['user_id','merchant_id']).agg('sum').reset_index()\n",
    "t3.drop_duplicates(inplace=True)\n",
    "\n",
    "#用户于该商家单纯消费总计\n",
    "t4 = feature3[['user_id','merchant_id','date','coupon_id']]\n",
    "t4 = t4[(t4.date!='null')&(t4.coupon_id=='null')][['user_id','merchant_id']]\n",
    "t4['user_merchant_buy_common'] = 1\n",
    "t4 = t4.groupby(['user_id','merchant_id']).agg('sum').reset_index()\n",
    "t4.drop_duplicates(inplace=True)"
   ]
  },
  {
   "cell_type": "code",
   "execution_count": 39,
   "metadata": {
    "ExecuteTime": {
     "end_time": "2018-08-07T07:44:35.409655Z",
     "start_time": "2018-08-07T07:44:29.160096Z"
    },
    "code_folding": [
     0
    ]
   },
   "outputs": [],
   "source": [
    "#merge dataframe\n",
    "user_merchant3 = pd.merge(\n",
    "    all_user_merchant, t, on=['user_id', 'merchant_id'], how='left')\n",
    "user_merchant3 = pd.merge(\n",
    "    user_merchant3, t1, on=['user_id', 'merchant_id'], how='left')\n",
    "user_merchant3 = pd.merge(\n",
    "    user_merchant3, t2, on=['user_id', 'merchant_id'], how='left')\n",
    "user_merchant3 = pd.merge(\n",
    "    user_merchant3, t3, on=['user_id', 'merchant_id'], how='left')\n",
    "user_merchant3 = pd.merge(\n",
    "    user_merchant3, t4, on=['user_id', 'merchant_id'], how='left')\n",
    "user_merchant3.user_merchant_buy_use_coupon = user_merchant3.user_merchant_buy_use_coupon.replace(\n",
    "    np.nan, 0)\n",
    "user_merchant3.user_merchant_buy_common = user_merchant3.user_merchant_buy_common.replace(\n",
    "    np.nan, 0)\n",
    "\n",
    "#用户领取优惠券后转化率（对于仅有一次优惠券记录的用户来说，是否会导致过拟合？）\n",
    "user_merchant3[\n",
    "    'user_merchant_coupon_transfer_rate'] = user_merchant3.user_merchant_buy_use_coupon.astype(\n",
    "        'float') / user_merchant3.user_merchant_received.astype('float')\n",
    "\n",
    "#用户于该商家购买中使用优惠券比率\n",
    "user_merchant3[\n",
    "    'user_merchant_coupon_buy_rate'] = user_merchant3.user_merchant_buy_use_coupon.astype(\n",
    "        'float') / user_merchant3.user_merchant_buy_total.astype('float')\n",
    "\n",
    "#用户与该商家相关记录中购买记录比率\n",
    "user_merchant3[\n",
    "    'user_merchant_rate'] = user_merchant3.user_merchant_buy_total.astype(\n",
    "        'float') / user_merchant3.user_merchant_any.astype('float')\n",
    "\n",
    "#用户与在该商家消费中单纯购买比率\n",
    "user_merchant3[\n",
    "    'user_merchant_common_buy_rate'] = user_merchant3.user_merchant_buy_common.astype(\n",
    "        'float') / user_merchant3.user_merchant_buy_total.astype('float')\n",
    "\n",
    "user_merchant3.to_csv('data/user_merchant3.csv', index=None)"
   ]
  },
  {
   "cell_type": "markdown",
   "metadata": {},
   "source": [
    "#### dataset2 feature2"
   ]
  },
  {
   "cell_type": "code",
   "execution_count": 40,
   "metadata": {
    "ExecuteTime": {
     "end_time": "2018-08-07T07:44:41.565471Z",
     "start_time": "2018-08-07T07:44:36.347089Z"
    },
    "code_folding": [
     0
    ]
   },
   "outputs": [],
   "source": [
    "#for dataset2\n",
    "all_user_merchant = feature2[['user_id','merchant_id']]\n",
    "all_user_merchant.drop_duplicates(inplace=True)\n",
    "\n",
    "t = feature2[['user_id','merchant_id','date']]\n",
    "t = t[t.date!='null'][['user_id','merchant_id']]\n",
    "t['user_merchant_buy_total'] = 1\n",
    "t = t.groupby(['user_id','merchant_id']).agg('sum').reset_index()\n",
    "t.drop_duplicates(inplace=True)\n",
    "\n",
    "t1 = feature2[['user_id','merchant_id','coupon_id']]\n",
    "t1 = t1[t1.coupon_id!='null'][['user_id','merchant_id']]\n",
    "t1['user_merchant_received'] = 1\n",
    "t1 = t1.groupby(['user_id','merchant_id']).agg('sum').reset_index()\n",
    "t1.drop_duplicates(inplace=True)\n",
    "\n",
    "t2 = feature2[['user_id','merchant_id','date','date_received']]\n",
    "t2 = t2[(t2.date!='null')&(t2.date_received!='null')][['user_id','merchant_id']]\n",
    "t2['user_merchant_buy_use_coupon'] = 1\n",
    "t2 = t2.groupby(['user_id','merchant_id']).agg('sum').reset_index()\n",
    "t2.drop_duplicates(inplace=True)\n",
    "\n",
    "t3 = feature2[['user_id','merchant_id']]\n",
    "t3['user_merchant_any'] = 1\n",
    "t3 = t3.groupby(['user_id','merchant_id']).agg('sum').reset_index()\n",
    "t3.drop_duplicates(inplace=True)\n",
    "\n",
    "t4 = feature2[['user_id','merchant_id','date','coupon_id']]\n",
    "t4 = t4[(t4.date!='null')&(t4.coupon_id=='null')][['user_id','merchant_id']]\n",
    "t4['user_merchant_buy_common'] = 1\n",
    "t4 = t4.groupby(['user_id','merchant_id']).agg('sum').reset_index()\n",
    "t4.drop_duplicates(inplace=True)\n"
   ]
  },
  {
   "cell_type": "code",
   "execution_count": 41,
   "metadata": {
    "ExecuteTime": {
     "end_time": "2018-08-07T07:44:48.440000Z",
     "start_time": "2018-08-07T07:44:43.081008Z"
    },
    "code_folding": [
     0
    ]
   },
   "outputs": [],
   "source": [
    "#merge dataframe\n",
    "user_merchant2 = pd.merge(all_user_merchant,t,on=['user_id','merchant_id'],how='left')\n",
    "user_merchant2 = pd.merge(user_merchant2,t1,on=['user_id','merchant_id'],how='left')\n",
    "user_merchant2 = pd.merge(user_merchant2,t2,on=['user_id','merchant_id'],how='left')\n",
    "user_merchant2 = pd.merge(user_merchant2,t3,on=['user_id','merchant_id'],how='left')\n",
    "user_merchant2 = pd.merge(user_merchant2,t4,on=['user_id','merchant_id'],how='left')\n",
    "user_merchant2.user_merchant_buy_use_coupon = user_merchant2.user_merchant_buy_use_coupon.replace(np.nan,0)\n",
    "user_merchant2.user_merchant_buy_common = user_merchant2.user_merchant_buy_common.replace(np.nan,0)\n",
    "user_merchant2['user_merchant_coupon_transfer_rate'] = user_merchant2.user_merchant_buy_use_coupon.astype('float') / user_merchant2.user_merchant_received.astype('float')\n",
    "user_merchant2['user_merchant_coupon_buy_rate'] = user_merchant2.user_merchant_buy_use_coupon.astype('float') / user_merchant2.user_merchant_buy_total.astype('float')\n",
    "user_merchant2['user_merchant_rate'] = user_merchant2.user_merchant_buy_total.astype('float') / user_merchant2.user_merchant_any.astype('float')\n",
    "user_merchant2['user_merchant_common_buy_rate'] = user_merchant2.user_merchant_buy_common.astype('float') / user_merchant2.user_merchant_buy_total.astype('float')\n",
    "user_merchant2.to_csv('data/user_merchant2.csv',index=None)"
   ]
  },
  {
   "cell_type": "markdown",
   "metadata": {},
   "source": [
    "#### dataset1 feature1"
   ]
  },
  {
   "cell_type": "code",
   "execution_count": 42,
   "metadata": {
    "ExecuteTime": {
     "end_time": "2018-08-07T07:44:56.251958Z",
     "start_time": "2018-08-07T07:44:50.299256Z"
    },
    "code_folding": [
     0
    ]
   },
   "outputs": [],
   "source": [
    "#for dataset1\n",
    "all_user_merchant = feature1[['user_id','merchant_id']]\n",
    "all_user_merchant.drop_duplicates(inplace=True)\n",
    "\n",
    "t = feature1[['user_id','merchant_id','date']]\n",
    "t = t[t.date!='null'][['user_id','merchant_id']]\n",
    "t['user_merchant_buy_total'] = 1\n",
    "t = t.groupby(['user_id','merchant_id']).agg('sum').reset_index()\n",
    "t.drop_duplicates(inplace=True)\n",
    "\n",
    "t1 = feature1[['user_id','merchant_id','coupon_id']]\n",
    "t1 = t1[t1.coupon_id!='null'][['user_id','merchant_id']]\n",
    "t1['user_merchant_received'] = 1\n",
    "t1 = t1.groupby(['user_id','merchant_id']).agg('sum').reset_index()\n",
    "t1.drop_duplicates(inplace=True)\n",
    "\n",
    "t2 = feature1[['user_id','merchant_id','date','date_received']]\n",
    "t2 = t2[(t2.date!='null')&(t2.date_received!='null')][['user_id','merchant_id']]\n",
    "t2['user_merchant_buy_use_coupon'] = 1\n",
    "t2 = t2.groupby(['user_id','merchant_id']).agg('sum').reset_index()\n",
    "t2.drop_duplicates(inplace=True)\n",
    "\n",
    "t3 = feature1[['user_id','merchant_id']]\n",
    "t3['user_merchant_any'] = 1\n",
    "t3 = t3.groupby(['user_id','merchant_id']).agg('sum').reset_index()\n",
    "t3.drop_duplicates(inplace=True)\n",
    "\n",
    "t4 = feature1[['user_id','merchant_id','date','coupon_id']]\n",
    "t4 = t4[(t4.date!='null')&(t4.coupon_id=='null')][['user_id','merchant_id']]\n",
    "t4['user_merchant_buy_common'] = 1\n",
    "t4 = t4.groupby(['user_id','merchant_id']).agg('sum').reset_index()\n",
    "t4.drop_duplicates(inplace=True)"
   ]
  },
  {
   "cell_type": "code",
   "execution_count": 43,
   "metadata": {
    "ExecuteTime": {
     "end_time": "2018-08-07T07:45:04.735744Z",
     "start_time": "2018-08-07T07:44:57.283135Z"
    },
    "code_folding": [
     0
    ]
   },
   "outputs": [],
   "source": [
    "#merge dataframe\n",
    "user_merchant1 = pd.merge(all_user_merchant,t,on=['user_id','merchant_id'],how='left')\n",
    "user_merchant1 = pd.merge(user_merchant1,t1,on=['user_id','merchant_id'],how='left')\n",
    "user_merchant1 = pd.merge(user_merchant1,t2,on=['user_id','merchant_id'],how='left')\n",
    "user_merchant1 = pd.merge(user_merchant1,t3,on=['user_id','merchant_id'],how='left')\n",
    "user_merchant1 = pd.merge(user_merchant1,t4,on=['user_id','merchant_id'],how='left')\n",
    "user_merchant1.user_merchant_buy_use_coupon = user_merchant1.user_merchant_buy_use_coupon.replace(np.nan,0)\n",
    "user_merchant1.user_merchant_buy_common = user_merchant1.user_merchant_buy_common.replace(np.nan,0)\n",
    "user_merchant1['user_merchant_coupon_transfer_rate'] = user_merchant1.user_merchant_buy_use_coupon.astype('float') / user_merchant1.user_merchant_received.astype('float')\n",
    "user_merchant1['user_merchant_coupon_buy_rate'] = user_merchant1.user_merchant_buy_use_coupon.astype('float') / user_merchant1.user_merchant_buy_total.astype('float')\n",
    "user_merchant1['user_merchant_rate'] = user_merchant1.user_merchant_buy_total.astype('float') / user_merchant1.user_merchant_any.astype('float')\n",
    "user_merchant1['user_merchant_common_buy_rate'] = user_merchant1.user_merchant_buy_common.astype('float') / user_merchant1.user_merchant_buy_total.astype('float')\n",
    "user_merchant1.to_csv('data/user_merchant1.csv',index=None)\n"
   ]
  },
  {
   "cell_type": "markdown",
   "metadata": {},
   "source": [
    "### 训练集，验证集"
   ]
  },
  {
   "cell_type": "code",
   "execution_count": 45,
   "metadata": {
    "ExecuteTime": {
     "end_time": "2018-08-07T07:45:14.719432Z",
     "start_time": "2018-08-07T07:45:14.688192Z"
    },
    "code_folding": []
   },
   "outputs": [],
   "source": [
    "def get_label(s):\n",
    "    s = s.split(':')\n",
    "    if s[0]=='null':\n",
    "        return 0\n",
    "    elif (date(int(s[0][0:4]),int(s[0][4:6]),int(s[0][6:8]))-date(int(s[1][0:4]),int(s[1][4:6]),int(s[1][6:8]))).days<=15:\n",
    "        return 1\n",
    "    else:\n",
    "        return -1"
   ]
  },
  {
   "cell_type": "markdown",
   "metadata": {},
   "source": [
    "#### dataset3"
   ]
  },
  {
   "cell_type": "code",
   "execution_count": 46,
   "metadata": {
    "ExecuteTime": {
     "end_time": "2018-08-07T07:45:21.109578Z",
     "start_time": "2018-08-07T07:45:18.437926Z"
    }
   },
   "outputs": [
    {
     "name": "stdout",
     "output_type": "stream",
     "text": [
      "(222261, 52)\n"
     ]
    }
   ],
   "source": [
    "coupon3 = pd.read_csv('data/coupon3_feature.csv')\n",
    "merchant3 = pd.read_csv('data/merchant3_feature.csv')\n",
    "user3 = pd.read_csv('data/user3_feature.csv')\n",
    "user_merchant3 = pd.read_csv('data/user_merchant3.csv')\n",
    "other_feature3 = pd.read_csv('data/other_feature3.csv')\n",
    "dataset3 = pd.merge(coupon3, merchant3, on='merchant_id', how='left')\n",
    "dataset3 = pd.merge(dataset3, user3, on='user_id', how='left')\n",
    "dataset3 = pd.merge(\n",
    "    dataset3, user_merchant3, on=['user_id', 'merchant_id'], how='left')\n",
    "dataset3 = pd.merge(\n",
    "    dataset3,\n",
    "    other_feature3,\n",
    "    on=['user_id', 'coupon_id', 'date_received'],\n",
    "    how='left')\n",
    "dataset3.drop_duplicates(inplace=True)\n",
    "print(dataset3.shape)"
   ]
  },
  {
   "cell_type": "code",
   "execution_count": 47,
   "metadata": {
    "ExecuteTime": {
     "end_time": "2018-08-07T07:45:48.826433Z",
     "start_time": "2018-08-07T07:45:35.093020Z"
    }
   },
   "outputs": [],
   "source": [
    "dataset3.user_merchant_buy_total = dataset3.user_merchant_buy_total.replace(\n",
    "    np.nan, 0)\n",
    "dataset3.user_merchant_any = dataset3.user_merchant_any.replace(np.nan, 0)\n",
    "dataset3.user_merchant_received = dataset3.user_merchant_received.replace(\n",
    "    np.nan, 0)\n",
    "dataset3['is_weekend'] = dataset3.day_of_week.apply(\n",
    "    lambda x: 1 if x in (6, 7) else 0)\n",
    "weekday_dummies = pd.get_dummies(dataset3.day_of_week)\n",
    "weekday_dummies.columns = [\n",
    "    'weekday' + str(i + 1) for i in range(weekday_dummies.shape[1])\n",
    "]\n",
    "dataset3 = pd.concat([dataset3, weekday_dummies], axis=1)\n",
    "dataset3.drop(\n",
    "    ['merchant_id', 'day_of_week', 'coupon_count'], axis=1, inplace=True)\n",
    "dataset3 = dataset3.replace('null', np.nan)\n",
    "dataset3.to_csv('data/dataset3.csv', index=None)"
   ]
  },
  {
   "cell_type": "markdown",
   "metadata": {
    "ExecuteTime": {
     "end_time": "2018-08-07T07:46:10.809287Z",
     "start_time": "2018-08-07T07:46:10.793670Z"
    }
   },
   "source": [
    "##### **训练集dataset3**\n",
    "\n",
    "共有**{{dataset3.shape[0]}}**个样本\n",
    "\n",
    "共有**{{dataset3.shape[1]}}**列特征\n",
    "\n",
    "{{dataset3.head(2)}}"
   ]
  },
  {
   "cell_type": "markdown",
   "metadata": {},
   "source": [
    "#### dataset2"
   ]
  },
  {
   "cell_type": "code",
   "execution_count": 50,
   "metadata": {
    "ExecuteTime": {
     "end_time": "2018-08-07T07:46:19.199300Z",
     "start_time": "2018-08-07T07:46:14.746518Z"
    }
   },
   "outputs": [
    {
     "name": "stdout",
     "output_type": "stream",
     "text": [
      "(492696, 53)\n"
     ]
    }
   ],
   "source": [
    "coupon2 = pd.read_csv('data/coupon2_feature.csv')\n",
    "merchant2 = pd.read_csv('data/merchant2_feature.csv')\n",
    "user2 = pd.read_csv('data/user2_feature.csv')\n",
    "user_merchant2 = pd.read_csv('data/user_merchant2.csv')\n",
    "other_feature2 = pd.read_csv('data/other_feature2.csv')\n",
    "dataset2 = pd.merge(coupon2,merchant2,on='merchant_id',how='left')\n",
    "dataset2 = pd.merge(dataset2,user2,on='user_id',how='left')\n",
    "dataset2 = pd.merge(dataset2,user_merchant2,on=['user_id','merchant_id'],how='left')\n",
    "dataset2 = pd.merge(dataset2,other_feature2,on=['user_id','coupon_id','date_received'],how='left')\n",
    "dataset2.drop_duplicates(inplace=True)\n",
    "print(dataset2.shape)"
   ]
  },
  {
   "cell_type": "code",
   "execution_count": null,
   "metadata": {},
   "outputs": [],
   "source": [
    "dataset2.user_merchant_buy_total = dataset2.user_merchant_buy_total.replace(np.nan,0)\n",
    "dataset2.user_merchant_any = dataset2.user_merchant_any.replace(np.nan,0)\n",
    "dataset2.user_merchant_received = dataset2.user_merchant_received.replace(np.nan,0)\n",
    "dataset2['is_weekend'] = dataset2.day_of_week.apply(lambda x:1 if x in (6,7) else 0)\n",
    "weekday_dummies = pd.get_dummies(dataset2.day_of_week)\n",
    "weekday_dummies.columns = ['weekday'+str(i+1) for i in range(weekday_dummies.shape[1])]\n",
    "dataset2 = pd.concat([dataset2,weekday_dummies],axis=1)\n",
    "dataset2['label'] = dataset2.date.fillna('null').astype('str') + ':' +  dataset2.date_received.astype('str')\n",
    "\n",
    "dataset2['label'] = dataset2.date.fillna('null').astype('str') + ':' +  dataset2.date_received.astype('str')\n",
    "dataset2.label = dataset2.label.apply(get_label)\n",
    "dataset2.drop(['merchant_id','day_of_week','date','date_received','coupon_id','coupon_count'],axis=1,inplace=True)\n",
    "dataset2 = dataset2.replace('null',np.nan)\n",
    "dataset2.to_csv('data/dataset2.csv',index=None)"
   ]
  },
  {
   "cell_type": "markdown",
   "metadata": {
    "ExecuteTime": {
     "end_time": "2018-08-07T07:46:10.809287Z",
     "start_time": "2018-08-07T07:46:10.793670Z"
    }
   },
   "source": [
    "##### **训练集dataset2**\n",
    "\n",
    "共有**{{dataset2.shape[0]}}**个样本\n",
    "\n",
    "共有**{{dataset2.shape[1]}}**列特征\n",
    "\n",
    "{{dataset2.head(2)}}"
   ]
  },
  {
   "cell_type": "markdown",
   "metadata": {},
   "source": [
    "#### dataset1"
   ]
  },
  {
   "cell_type": "code",
   "execution_count": 62,
   "metadata": {
    "ExecuteTime": {
     "end_time": "2018-08-07T07:54:44.539470Z",
     "start_time": "2018-08-07T07:54:41.383476Z"
    }
   },
   "outputs": [
    {
     "name": "stdout",
     "output_type": "stream",
     "text": [
      "(255225, 53)\n"
     ]
    }
   ],
   "source": [
    "coupon1 = pd.read_csv('data/coupon1_feature.csv')\n",
    "merchant1 = pd.read_csv('data/merchant1_feature.csv')\n",
    "user1 = pd.read_csv('data/user1_feature.csv')\n",
    "user_merchant1 = pd.read_csv('data/user_merchant1.csv')\n",
    "other_feature1 = pd.read_csv('data/other_feature1.csv')\n",
    "dataset1 = pd.merge(coupon1,merchant1,on='merchant_id',how='left')\n",
    "dataset1 = pd.merge(dataset1,user1,on='user_id',how='left')\n",
    "dataset1 = pd.merge(dataset1,user_merchant1,on=['user_id','merchant_id'],how='left')\n",
    "dataset1 = pd.merge(dataset1,other_feature1,on=['user_id','coupon_id','date_received'],how='left')\n",
    "dataset1.drop_duplicates(inplace=True)\n",
    "print(dataset1.shape)"
   ]
  },
  {
   "cell_type": "code",
   "execution_count": 63,
   "metadata": {
    "ExecuteTime": {
     "end_time": "2018-08-07T07:55:01.788302Z",
     "start_time": "2018-08-07T07:54:46.476835Z"
    }
   },
   "outputs": [],
   "source": [
    "dataset1.user_merchant_buy_total = dataset1.user_merchant_buy_total.replace(np.nan,0)\n",
    "dataset1.user_merchant_any = dataset1.user_merchant_any.replace(np.nan,0)\n",
    "dataset1.user_merchant_received = dataset1.user_merchant_received.replace(np.nan,0)\n",
    "dataset1['is_weekend'] = dataset1.day_of_week.apply(lambda x:1 if x in (6,7) else 0)\n",
    "weekday_dummies = pd.get_dummies(dataset1.day_of_week)\n",
    "weekday_dummies.columns = ['weekday'+str(i+1) for i in range(weekday_dummies.shape[1])]\n",
    "dataset1 = pd.concat([dataset1,weekday_dummies],axis=1)\n",
    "dataset1['label'] = dataset1.date.fillna('null').astype('str') + ':' +  dataset1.date_received.astype('str')\n",
    "dataset1.label = dataset1.label.apply(get_label)\n",
    "dataset1.drop(['merchant_id','day_of_week','date','date_received','coupon_id','coupon_count'],axis=1,inplace=True)\n",
    "dataset1 = dataset1.replace('null',np.nan)\n",
    "dataset1.to_csv('data/dataset1.csv',index=None)"
   ]
  },
  {
   "cell_type": "markdown",
   "metadata": {
    "ExecuteTime": {
     "end_time": "2018-08-07T07:46:10.809287Z",
     "start_time": "2018-08-07T07:46:10.793670Z"
    }
   },
   "source": [
    "##### **训练集dataset1**\n",
    "\n",
    "共有**{{dataset1.shape[0]}}**个样本\n",
    "\n",
    "共有**{{dataset1.shape[1]}}**列特征\n",
    "\n",
    "{{dataset1.head(2)}}"
   ]
  },
  {
   "cell_type": "markdown",
   "metadata": {},
   "source": [
    "#### 对比训练集\n",
    "dataset3比dataset1/2多出两个特征没有drop：\n",
    "- coupon_id\n",
    "- date_received.\n",
    "\n",
    "这个在训练模型的时候需要drop.\n",
    "\n",
    "dataset2/1比dataset3多出label标签。"
   ]
  }
 ],
 "metadata": {
  "kernelspec": {
   "display_name": "Python 3",
   "language": "python",
   "name": "python3"
  },
  "language_info": {
   "codemirror_mode": {
    "name": "ipython",
    "version": 3
   },
   "file_extension": ".py",
   "mimetype": "text/x-python",
   "name": "python",
   "nbconvert_exporter": "python",
   "pygments_lexer": "ipython3",
   "version": "3.6.4"
  },
  "toc": {
   "base_numbering": 1,
   "nav_menu": {
    "height": "223px",
    "width": "262px"
   },
   "number_sections": true,
   "sideBar": true,
   "skip_h1_title": false,
   "title_cell": "Table of Contents",
   "title_sidebar": "Contents",
   "toc_cell": true,
   "toc_position": {
    "height": "calc(100% - 180px)",
    "left": "10px",
    "top": "150px",
    "width": "247px"
   },
   "toc_section_display": true,
   "toc_window_display": false
  },
  "varInspector": {
   "cols": {
    "lenName": 16,
    "lenType": 16,
    "lenVar": 40
   },
   "kernels_config": {
    "python": {
     "delete_cmd_postfix": "",
     "delete_cmd_prefix": "del ",
     "library": "var_list.py",
     "varRefreshCmd": "print(var_dic_list())"
    },
    "r": {
     "delete_cmd_postfix": ") ",
     "delete_cmd_prefix": "rm(",
     "library": "var_list.r",
     "varRefreshCmd": "cat(var_dic_list()) "
    }
   },
   "types_to_exclude": [
    "module",
    "function",
    "builtin_function_or_method",
    "instance",
    "_Feature"
   ],
   "window_display": false
  }
 },
 "nbformat": 4,
 "nbformat_minor": 2
}
